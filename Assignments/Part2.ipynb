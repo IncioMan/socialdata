{
 "cells": [
  {
   "cell_type": "markdown",
   "metadata": {},
   "source": [
    "# Assignment 2.\n",
    "\n",
    "## Formalia:\n",
    "\n",
    "Please read the [assignment overview page](https://github.com/suneman/socialdataanalysis2020/wiki/Assignments) carefully before proceeding. This page contains information about formatting (including formats etc), group sizes, and many other aspects of handing in the assignment. \n",
    "\n",
    "_If you fail to follow these simple instructions, it will negatively impact your grade!_\n",
    "\n",
    "**Due date and time**: The assignment is due on Monday March 30th, 2020 at 23:55. Hand in your files via [`http://peergrade.io`](http://peergrade.io/).\n",
    "\n",
    "**Peergrading date and time**: _Remember that after handing in you have 6 days to evaluate a few assignments written by other members of the class_. Thus, the peer evaluations are due on Sunday April 5th, 2020 at 23:55. (The reason I'm asking you to do the peer evaluations on the sunday is that I want you to be able to enjoy the easter break fully.)"
   ]
  },
  {
   "cell_type": "markdown",
   "metadata": {},
   "source": [
    "## Part 1: Questions to text and lectures.\n",
    "\n",
    "A) Please answer my questions to the Segal and Heer paper we read during lecture 7 and 8.\n",
    "\n",
    "* What is the *Oxford English Dictionary's* defintion of a narrative?\n",
    "* What is your favorite visualization among the examples in section 3? Explain why in a few words.\n",
    "* What's the point of Figure 7?\n",
    "* Use Figure 7 to find the most common design choice within each category for the Visual narrative and Narrative structure (the categories within visual narrative are 'visual structuring', 'highlighting', etc).\n",
    "* Check out Figure 8 and section 4.3. What is your favorite genre of narrative visualization? Why? What is your least favorite genre? Why?\n",
    "\n",
    "\n",
    "B) Also please answer the questions to my talk on [explanatory data visualization](https://www.youtube.com/watch?v=yHKYMGwefso)\n",
    "\n",
    "* What are the three key elements to keep in mind when you design an explanatory visualization?\n",
    "* In the video I talk about (1) *overview first*,  (2) *zoom and filter*,  (3) *details on demand*. \n",
    "  - Go online and find a visualization that follows these principles (don't use one from the video). \n",
    "  - Explain how it does achieves (1)-(3). It might be useful to use screenshots to illustrate your explanation.\n",
    "* Explain in your own words: How is explanatory data analysis different from exploratory data analysis?"
   ]
  },
  {
   "cell_type": "code",
   "execution_count": 304,
   "metadata": {},
   "outputs": [],
   "source": [
    "import numpy as np\n",
    "import pandas as pd\n",
    "import folium\n",
    "import imageio\n",
    "import matplotlib\n",
    "import seaborn as sns\n",
    "from collections import Counter\n",
    "import matplotlib.pyplot as plt\n",
    "from folium import plugins\n",
    "from folium.plugins import HeatMap\n",
    "from sklearn.neighbors import KNeighborsClassifier\n",
    "from sklearn.preprocessing import OneHotEncoder\n",
    "from sklearn.tree import DecisionTreeClassifier\n",
    "from sklearn.ensemble import RandomForestClassifier\n",
    "from sklearn.model_selection import train_test_split\n",
    "from graphviz import Source\n",
    "from sklearn import tree\n",
    "from sklearn.metrics import classification_report\n",
    "from sklearn.metrics import confusion_matrix"
   ]
  },
  {
   "cell_type": "code",
   "execution_count": 305,
   "metadata": {},
   "outputs": [],
   "source": [
    "crimedata = pd.read_csv(\"../../../Police_Department_Incident_Reports__Historical_2003_to_May_2018.csv\")\n",
    "crimedata.Date = pd.to_datetime(crimedata.Date)\n",
    "crimedata['Hour'] = pd.to_datetime(crimedata.Time).dt.hour\n",
    "crimedata['DayOfWeek'] = crimedata.Date.dt.dayofweek\n",
    "crimedata['Month'] = crimedata.Date.dt.month\n",
    "crimedata['Minutes'] = pd.to_datetime(crimedata.Time).dt.minute\n",
    "crimedata['Year'] = crimedata.Date.dt.year\n",
    "crimedata['X'] = crimedata['X'].astype(float)\n",
    "crimedata['Y'] = crimedata['Y'].astype(float)"
   ]
  },
  {
   "cell_type": "code",
   "execution_count": 235,
   "metadata": {},
   "outputs": [
    {
     "data": {
      "text/html": [
       "<div>\n",
       "<style scoped>\n",
       "    .dataframe tbody tr th:only-of-type {\n",
       "        vertical-align: middle;\n",
       "    }\n",
       "\n",
       "    .dataframe tbody tr th {\n",
       "        vertical-align: top;\n",
       "    }\n",
       "\n",
       "    .dataframe thead th {\n",
       "        text-align: right;\n",
       "    }\n",
       "</style>\n",
       "<table border=\"1\" class=\"dataframe\">\n",
       "  <thead>\n",
       "    <tr style=\"text-align: right;\">\n",
       "      <th></th>\n",
       "      <th>IncidntNum</th>\n",
       "      <th>Category</th>\n",
       "      <th>Descript</th>\n",
       "      <th>DayOfWeek</th>\n",
       "      <th>Date</th>\n",
       "      <th>Time</th>\n",
       "      <th>PdDistrict</th>\n",
       "      <th>Resolution</th>\n",
       "      <th>Address</th>\n",
       "      <th>X</th>\n",
       "      <th>Y</th>\n",
       "      <th>Location</th>\n",
       "      <th>PdId</th>\n",
       "      <th>Hour</th>\n",
       "      <th>Month</th>\n",
       "      <th>Minutes</th>\n",
       "      <th>Year</th>\n",
       "    </tr>\n",
       "  </thead>\n",
       "  <tbody>\n",
       "    <tr>\n",
       "      <td>0</td>\n",
       "      <td>110308742</td>\n",
       "      <td>MISSING PERSON</td>\n",
       "      <td>FOUND PERSON</td>\n",
       "      <td>4</td>\n",
       "      <td>2011-04-15</td>\n",
       "      <td>16:00</td>\n",
       "      <td>TARAVAL</td>\n",
       "      <td>LOCATED</td>\n",
       "      <td>0 Block of CRESPI DR</td>\n",
       "      <td>-122.476328</td>\n",
       "      <td>37.719687</td>\n",
       "      <td>POINT (-122.476327815126 37.7196874952717)</td>\n",
       "      <td>11030874275000</td>\n",
       "      <td>16</td>\n",
       "      <td>4</td>\n",
       "      <td>0</td>\n",
       "      <td>2011</td>\n",
       "    </tr>\n",
       "    <tr>\n",
       "      <td>1</td>\n",
       "      <td>90316914</td>\n",
       "      <td>WARRANTS</td>\n",
       "      <td>WARRANT ARREST</td>\n",
       "      <td>3</td>\n",
       "      <td>2009-03-26</td>\n",
       "      <td>12:28</td>\n",
       "      <td>SOUTHERN</td>\n",
       "      <td>ARREST, BOOKED</td>\n",
       "      <td>1000 Block of MARKET ST</td>\n",
       "      <td>-122.411340</td>\n",
       "      <td>37.781271</td>\n",
       "      <td>POINT (-122.411339562557 37.7812707434494)</td>\n",
       "      <td>9031691463010</td>\n",
       "      <td>12</td>\n",
       "      <td>3</td>\n",
       "      <td>28</td>\n",
       "      <td>2009</td>\n",
       "    </tr>\n",
       "    <tr>\n",
       "      <td>2</td>\n",
       "      <td>130132311</td>\n",
       "      <td>SECONDARY CODES</td>\n",
       "      <td>DOMESTIC VIOLENCE</td>\n",
       "      <td>4</td>\n",
       "      <td>2013-02-15</td>\n",
       "      <td>02:00</td>\n",
       "      <td>PARK</td>\n",
       "      <td>ARREST, BOOKED</td>\n",
       "      <td>CASTRO ST / MARKET ST</td>\n",
       "      <td>-122.435188</td>\n",
       "      <td>37.762670</td>\n",
       "      <td>POINT (-122.435187699349 37.7626702770872)</td>\n",
       "      <td>13013231115200</td>\n",
       "      <td>2</td>\n",
       "      <td>2</td>\n",
       "      <td>0</td>\n",
       "      <td>2013</td>\n",
       "    </tr>\n",
       "    <tr>\n",
       "      <td>3</td>\n",
       "      <td>80052833</td>\n",
       "      <td>OTHER OFFENSES</td>\n",
       "      <td>DRIVERS LICENSE, SUSPENDED OR REVOKED</td>\n",
       "      <td>1</td>\n",
       "      <td>2008-01-15</td>\n",
       "      <td>20:13</td>\n",
       "      <td>MISSION</td>\n",
       "      <td>ARREST, CITED</td>\n",
       "      <td>VALENCIA ST / 16TH ST</td>\n",
       "      <td>-122.421886</td>\n",
       "      <td>37.764918</td>\n",
       "      <td>POINT (-122.421886357981 37.7649178909424)</td>\n",
       "      <td>8005283365016</td>\n",
       "      <td>20</td>\n",
       "      <td>1</td>\n",
       "      <td>13</td>\n",
       "      <td>2008</td>\n",
       "    </tr>\n",
       "    <tr>\n",
       "      <td>4</td>\n",
       "      <td>70535770</td>\n",
       "      <td>SECONDARY CODES</td>\n",
       "      <td>DOMESTIC VIOLENCE</td>\n",
       "      <td>5</td>\n",
       "      <td>2007-05-26</td>\n",
       "      <td>18:10</td>\n",
       "      <td>MISSION</td>\n",
       "      <td>ARREST, BOOKED</td>\n",
       "      <td>2800 Block of FOLSOM ST</td>\n",
       "      <td>-122.413935</td>\n",
       "      <td>37.751693</td>\n",
       "      <td>POINT (-122.413935404044 37.7516932889916)</td>\n",
       "      <td>7053577015200</td>\n",
       "      <td>18</td>\n",
       "      <td>5</td>\n",
       "      <td>10</td>\n",
       "      <td>2007</td>\n",
       "    </tr>\n",
       "  </tbody>\n",
       "</table>\n",
       "</div>"
      ],
      "text/plain": [
       "   IncidntNum         Category                               Descript  \\\n",
       "0   110308742   MISSING PERSON                           FOUND PERSON   \n",
       "1    90316914         WARRANTS                         WARRANT ARREST   \n",
       "2   130132311  SECONDARY CODES                      DOMESTIC VIOLENCE   \n",
       "3    80052833   OTHER OFFENSES  DRIVERS LICENSE, SUSPENDED OR REVOKED   \n",
       "4    70535770  SECONDARY CODES                      DOMESTIC VIOLENCE   \n",
       "\n",
       "   DayOfWeek       Date   Time PdDistrict      Resolution  \\\n",
       "0          4 2011-04-15  16:00    TARAVAL         LOCATED   \n",
       "1          3 2009-03-26  12:28   SOUTHERN  ARREST, BOOKED   \n",
       "2          4 2013-02-15  02:00       PARK  ARREST, BOOKED   \n",
       "3          1 2008-01-15  20:13    MISSION   ARREST, CITED   \n",
       "4          5 2007-05-26  18:10    MISSION  ARREST, BOOKED   \n",
       "\n",
       "                   Address           X          Y  \\\n",
       "0     0 Block of CRESPI DR -122.476328  37.719687   \n",
       "1  1000 Block of MARKET ST -122.411340  37.781271   \n",
       "2    CASTRO ST / MARKET ST -122.435188  37.762670   \n",
       "3    VALENCIA ST / 16TH ST -122.421886  37.764918   \n",
       "4  2800 Block of FOLSOM ST -122.413935  37.751693   \n",
       "\n",
       "                                     Location            PdId  Hour  Month  \\\n",
       "0  POINT (-122.476327815126 37.7196874952717)  11030874275000    16      4   \n",
       "1  POINT (-122.411339562557 37.7812707434494)   9031691463010    12      3   \n",
       "2  POINT (-122.435187699349 37.7626702770872)  13013231115200     2      2   \n",
       "3  POINT (-122.421886357981 37.7649178909424)   8005283365016    20      1   \n",
       "4  POINT (-122.413935404044 37.7516932889916)   7053577015200    18      5   \n",
       "\n",
       "   Minutes  Year  \n",
       "0        0  2011  \n",
       "1       28  2009  \n",
       "2        0  2013  \n",
       "3       13  2008  \n",
       "4       10  2007  "
      ]
     },
     "execution_count": 235,
     "metadata": {},
     "output_type": "execute_result"
    }
   ],
   "source": [
    "crimedata.head()"
   ]
  },
  {
   "cell_type": "markdown",
   "metadata": {},
   "source": [
    "Removing NaN values from the dataset"
   ]
  },
  {
   "cell_type": "code",
   "execution_count": 236,
   "metadata": {},
   "outputs": [
    {
     "name": "stdout",
     "output_type": "stream",
     "text": [
      "1 row(s) with NaN values deleted\n"
     ]
    }
   ],
   "source": [
    "#Check and remove missing values\n",
    "is_NaN = crimedata.isnull()\n",
    "row_has_NaN = is_NaN.any(axis=1)\n",
    "rows_with_NaN = crimedata[row_has_NaN]\n",
    "print(f\"{len(rows_with_NaN)} row(s) with NaN values deleted\")\n",
    "crimedata = crimedata.drop(rows_with_NaN.index)"
   ]
  },
  {
   "cell_type": "markdown",
   "metadata": {},
   "source": [
    "## Part 2: Random forest and weather\n",
    "\n",
    "The aim here is to recreate the work you did in Part 1 and 2 of the Week 7 lecture. I've phrased things differently relative to the exercise to make the purpose more clear. \n",
    "\n",
    "Part 2A: Random forest binary classification. \n",
    "* Using the and instructions and material from Week 7, build a *random forest* classifier to distinguish between two types (you choose) of crime using on spatio-temporal (where/when) features of data describing the two crimes. When you're done, you should be able to give the classifier a place and a time, and it should tell you which of the two  types of crime happened there.\n",
    "  - Explain about your choices for training/test data, features, and encoding. (You decide how to present your results, but here are some example topics to consider: Did you balance the training data? What are the pros/cons of balancing? Do you think your model is overfitting? Did you choose to do cross-validation? Which specific features did you end up using? Why? Which features (if any) did you one-hot encode? Why ... or why not?))\n",
    "  - Report accuracy. Discuss the model performance."
   ]
  },
  {
   "cell_type": "code",
   "execution_count": 237,
   "metadata": {},
   "outputs": [],
   "source": [
    "# Create a column for Hour of the week\n",
    "crimedata['HourOfTheWeek'] = crimedata.Hour + (crimedata.DayOfWeek) * 24"
   ]
  },
  {
   "cell_type": "code",
   "execution_count": 238,
   "metadata": {},
   "outputs": [
    {
     "data": {
      "text/html": [
       "<div>\n",
       "<style scoped>\n",
       "    .dataframe tbody tr th:only-of-type {\n",
       "        vertical-align: middle;\n",
       "    }\n",
       "\n",
       "    .dataframe tbody tr th {\n",
       "        vertical-align: top;\n",
       "    }\n",
       "\n",
       "    .dataframe thead th {\n",
       "        text-align: right;\n",
       "    }\n",
       "</style>\n",
       "<table border=\"1\" class=\"dataframe\">\n",
       "  <thead>\n",
       "    <tr style=\"text-align: right;\">\n",
       "      <th></th>\n",
       "      <th>IncidntNum</th>\n",
       "      <th>Category</th>\n",
       "      <th>Descript</th>\n",
       "      <th>DayOfWeek</th>\n",
       "      <th>Date</th>\n",
       "      <th>Time</th>\n",
       "      <th>PdDistrict</th>\n",
       "      <th>Resolution</th>\n",
       "      <th>Address</th>\n",
       "      <th>X</th>\n",
       "      <th>...</th>\n",
       "      <th>pddistrict_BAYVIEW</th>\n",
       "      <th>pddistrict_CENTRAL</th>\n",
       "      <th>pddistrict_INGLESIDE</th>\n",
       "      <th>pddistrict_MISSION</th>\n",
       "      <th>pddistrict_NORTHERN</th>\n",
       "      <th>pddistrict_PARK</th>\n",
       "      <th>pddistrict_RICHMOND</th>\n",
       "      <th>pddistrict_SOUTHERN</th>\n",
       "      <th>pddistrict_TARAVAL</th>\n",
       "      <th>pddistrict_TENDERLOIN</th>\n",
       "    </tr>\n",
       "  </thead>\n",
       "  <tbody>\n",
       "    <tr>\n",
       "      <td>0</td>\n",
       "      <td>110308742</td>\n",
       "      <td>MISSING PERSON</td>\n",
       "      <td>FOUND PERSON</td>\n",
       "      <td>4</td>\n",
       "      <td>2011-04-15</td>\n",
       "      <td>16:00</td>\n",
       "      <td>TARAVAL</td>\n",
       "      <td>LOCATED</td>\n",
       "      <td>0 Block of CRESPI DR</td>\n",
       "      <td>-122.476328</td>\n",
       "      <td>...</td>\n",
       "      <td>0</td>\n",
       "      <td>0</td>\n",
       "      <td>0</td>\n",
       "      <td>0</td>\n",
       "      <td>0</td>\n",
       "      <td>0</td>\n",
       "      <td>0</td>\n",
       "      <td>0</td>\n",
       "      <td>1</td>\n",
       "      <td>0</td>\n",
       "    </tr>\n",
       "    <tr>\n",
       "      <td>1</td>\n",
       "      <td>90316914</td>\n",
       "      <td>WARRANTS</td>\n",
       "      <td>WARRANT ARREST</td>\n",
       "      <td>3</td>\n",
       "      <td>2009-03-26</td>\n",
       "      <td>12:28</td>\n",
       "      <td>SOUTHERN</td>\n",
       "      <td>ARREST, BOOKED</td>\n",
       "      <td>1000 Block of MARKET ST</td>\n",
       "      <td>-122.411340</td>\n",
       "      <td>...</td>\n",
       "      <td>0</td>\n",
       "      <td>0</td>\n",
       "      <td>0</td>\n",
       "      <td>0</td>\n",
       "      <td>0</td>\n",
       "      <td>0</td>\n",
       "      <td>0</td>\n",
       "      <td>1</td>\n",
       "      <td>0</td>\n",
       "      <td>0</td>\n",
       "    </tr>\n",
       "    <tr>\n",
       "      <td>2</td>\n",
       "      <td>130132311</td>\n",
       "      <td>SECONDARY CODES</td>\n",
       "      <td>DOMESTIC VIOLENCE</td>\n",
       "      <td>4</td>\n",
       "      <td>2013-02-15</td>\n",
       "      <td>02:00</td>\n",
       "      <td>PARK</td>\n",
       "      <td>ARREST, BOOKED</td>\n",
       "      <td>CASTRO ST / MARKET ST</td>\n",
       "      <td>-122.435188</td>\n",
       "      <td>...</td>\n",
       "      <td>0</td>\n",
       "      <td>0</td>\n",
       "      <td>0</td>\n",
       "      <td>0</td>\n",
       "      <td>0</td>\n",
       "      <td>1</td>\n",
       "      <td>0</td>\n",
       "      <td>0</td>\n",
       "      <td>0</td>\n",
       "      <td>0</td>\n",
       "    </tr>\n",
       "    <tr>\n",
       "      <td>3</td>\n",
       "      <td>80052833</td>\n",
       "      <td>OTHER OFFENSES</td>\n",
       "      <td>DRIVERS LICENSE, SUSPENDED OR REVOKED</td>\n",
       "      <td>1</td>\n",
       "      <td>2008-01-15</td>\n",
       "      <td>20:13</td>\n",
       "      <td>MISSION</td>\n",
       "      <td>ARREST, CITED</td>\n",
       "      <td>VALENCIA ST / 16TH ST</td>\n",
       "      <td>-122.421886</td>\n",
       "      <td>...</td>\n",
       "      <td>0</td>\n",
       "      <td>0</td>\n",
       "      <td>0</td>\n",
       "      <td>1</td>\n",
       "      <td>0</td>\n",
       "      <td>0</td>\n",
       "      <td>0</td>\n",
       "      <td>0</td>\n",
       "      <td>0</td>\n",
       "      <td>0</td>\n",
       "    </tr>\n",
       "    <tr>\n",
       "      <td>4</td>\n",
       "      <td>70535770</td>\n",
       "      <td>SECONDARY CODES</td>\n",
       "      <td>DOMESTIC VIOLENCE</td>\n",
       "      <td>5</td>\n",
       "      <td>2007-05-26</td>\n",
       "      <td>18:10</td>\n",
       "      <td>MISSION</td>\n",
       "      <td>ARREST, BOOKED</td>\n",
       "      <td>2800 Block of FOLSOM ST</td>\n",
       "      <td>-122.413935</td>\n",
       "      <td>...</td>\n",
       "      <td>0</td>\n",
       "      <td>0</td>\n",
       "      <td>0</td>\n",
       "      <td>1</td>\n",
       "      <td>0</td>\n",
       "      <td>0</td>\n",
       "      <td>0</td>\n",
       "      <td>0</td>\n",
       "      <td>0</td>\n",
       "      <td>0</td>\n",
       "    </tr>\n",
       "  </tbody>\n",
       "</table>\n",
       "<p>5 rows × 28 columns</p>\n",
       "</div>"
      ],
      "text/plain": [
       "   IncidntNum         Category                               Descript  \\\n",
       "0   110308742   MISSING PERSON                           FOUND PERSON   \n",
       "1    90316914         WARRANTS                         WARRANT ARREST   \n",
       "2   130132311  SECONDARY CODES                      DOMESTIC VIOLENCE   \n",
       "3    80052833   OTHER OFFENSES  DRIVERS LICENSE, SUSPENDED OR REVOKED   \n",
       "4    70535770  SECONDARY CODES                      DOMESTIC VIOLENCE   \n",
       "\n",
       "   DayOfWeek       Date   Time PdDistrict      Resolution  \\\n",
       "0          4 2011-04-15  16:00    TARAVAL         LOCATED   \n",
       "1          3 2009-03-26  12:28   SOUTHERN  ARREST, BOOKED   \n",
       "2          4 2013-02-15  02:00       PARK  ARREST, BOOKED   \n",
       "3          1 2008-01-15  20:13    MISSION   ARREST, CITED   \n",
       "4          5 2007-05-26  18:10    MISSION  ARREST, BOOKED   \n",
       "\n",
       "                   Address           X  ...  pddistrict_BAYVIEW  \\\n",
       "0     0 Block of CRESPI DR -122.476328  ...                   0   \n",
       "1  1000 Block of MARKET ST -122.411340  ...                   0   \n",
       "2    CASTRO ST / MARKET ST -122.435188  ...                   0   \n",
       "3    VALENCIA ST / 16TH ST -122.421886  ...                   0   \n",
       "4  2800 Block of FOLSOM ST -122.413935  ...                   0   \n",
       "\n",
       "  pddistrict_CENTRAL  pddistrict_INGLESIDE  pddistrict_MISSION  \\\n",
       "0                  0                     0                   0   \n",
       "1                  0                     0                   0   \n",
       "2                  0                     0                   0   \n",
       "3                  0                     0                   1   \n",
       "4                  0                     0                   1   \n",
       "\n",
       "   pddistrict_NORTHERN  pddistrict_PARK  pddistrict_RICHMOND  \\\n",
       "0                    0                0                    0   \n",
       "1                    0                0                    0   \n",
       "2                    0                1                    0   \n",
       "3                    0                0                    0   \n",
       "4                    0                0                    0   \n",
       "\n",
       "   pddistrict_SOUTHERN  pddistrict_TARAVAL  pddistrict_TENDERLOIN  \n",
       "0                    0                   1                      0  \n",
       "1                    1                   0                      0  \n",
       "2                    0                   0                      0  \n",
       "3                    0                   0                      0  \n",
       "4                    0                   0                      0  \n",
       "\n",
       "[5 rows x 28 columns]"
      ]
     },
     "execution_count": 238,
     "metadata": {},
     "output_type": "execute_result"
    }
   ],
   "source": [
    "#One Hot Encode PdDistrict\n",
    "crimedata.PdDistrict = pd.Categorical(crimedata['PdDistrict'])\n",
    "pddummies = pd.get_dummies(crimedata['PdDistrict'], prefix = 'pddistrict')\n",
    "pd_columns = list(pddummies.columns.values)\n",
    "\n",
    "# Concat new hot encoded columns and the other columns\n",
    "dataencoded = pd.concat([crimedata, pddummies], axis=1)\n",
    "dataencoded.head()"
   ]
  },
  {
   "cell_type": "code",
   "execution_count": 266,
   "metadata": {
    "scrolled": true
   },
   "outputs": [
    {
     "data": {
      "text/html": [
       "<div>\n",
       "<style scoped>\n",
       "    .dataframe tbody tr th:only-of-type {\n",
       "        vertical-align: middle;\n",
       "    }\n",
       "\n",
       "    .dataframe tbody tr th {\n",
       "        vertical-align: top;\n",
       "    }\n",
       "\n",
       "    .dataframe thead th {\n",
       "        text-align: right;\n",
       "    }\n",
       "</style>\n",
       "<table border=\"1\" class=\"dataframe\">\n",
       "  <thead>\n",
       "    <tr style=\"text-align: right;\">\n",
       "      <th></th>\n",
       "      <th>Date</th>\n",
       "      <th>Hour</th>\n",
       "      <th>HourOfTheWeek</th>\n",
       "      <th>X</th>\n",
       "      <th>Y</th>\n",
       "      <th>Category</th>\n",
       "      <th>pddistrict_BAYVIEW</th>\n",
       "      <th>pddistrict_CENTRAL</th>\n",
       "      <th>pddistrict_INGLESIDE</th>\n",
       "      <th>pddistrict_MISSION</th>\n",
       "      <th>pddistrict_NORTHERN</th>\n",
       "      <th>pddistrict_PARK</th>\n",
       "      <th>pddistrict_RICHMOND</th>\n",
       "      <th>pddistrict_SOUTHERN</th>\n",
       "      <th>pddistrict_TARAVAL</th>\n",
       "      <th>pddistrict_TENDERLOIN</th>\n",
       "    </tr>\n",
       "  </thead>\n",
       "  <tbody>\n",
       "    <tr>\n",
       "      <td>0</td>\n",
       "      <td>2011-04-15</td>\n",
       "      <td>16</td>\n",
       "      <td>112</td>\n",
       "      <td>-122.476328</td>\n",
       "      <td>37.719687</td>\n",
       "      <td>MISSING PERSON</td>\n",
       "      <td>0</td>\n",
       "      <td>0</td>\n",
       "      <td>0</td>\n",
       "      <td>0</td>\n",
       "      <td>0</td>\n",
       "      <td>0</td>\n",
       "      <td>0</td>\n",
       "      <td>0</td>\n",
       "      <td>1</td>\n",
       "      <td>0</td>\n",
       "    </tr>\n",
       "    <tr>\n",
       "      <td>1</td>\n",
       "      <td>2009-03-26</td>\n",
       "      <td>12</td>\n",
       "      <td>84</td>\n",
       "      <td>-122.411340</td>\n",
       "      <td>37.781271</td>\n",
       "      <td>WARRANTS</td>\n",
       "      <td>0</td>\n",
       "      <td>0</td>\n",
       "      <td>0</td>\n",
       "      <td>0</td>\n",
       "      <td>0</td>\n",
       "      <td>0</td>\n",
       "      <td>0</td>\n",
       "      <td>1</td>\n",
       "      <td>0</td>\n",
       "      <td>0</td>\n",
       "    </tr>\n",
       "    <tr>\n",
       "      <td>2</td>\n",
       "      <td>2013-02-15</td>\n",
       "      <td>2</td>\n",
       "      <td>98</td>\n",
       "      <td>-122.435188</td>\n",
       "      <td>37.762670</td>\n",
       "      <td>SECONDARY CODES</td>\n",
       "      <td>0</td>\n",
       "      <td>0</td>\n",
       "      <td>0</td>\n",
       "      <td>0</td>\n",
       "      <td>0</td>\n",
       "      <td>1</td>\n",
       "      <td>0</td>\n",
       "      <td>0</td>\n",
       "      <td>0</td>\n",
       "      <td>0</td>\n",
       "    </tr>\n",
       "    <tr>\n",
       "      <td>3</td>\n",
       "      <td>2008-01-15</td>\n",
       "      <td>20</td>\n",
       "      <td>44</td>\n",
       "      <td>-122.421886</td>\n",
       "      <td>37.764918</td>\n",
       "      <td>OTHER OFFENSES</td>\n",
       "      <td>0</td>\n",
       "      <td>0</td>\n",
       "      <td>0</td>\n",
       "      <td>1</td>\n",
       "      <td>0</td>\n",
       "      <td>0</td>\n",
       "      <td>0</td>\n",
       "      <td>0</td>\n",
       "      <td>0</td>\n",
       "      <td>0</td>\n",
       "    </tr>\n",
       "    <tr>\n",
       "      <td>4</td>\n",
       "      <td>2007-05-26</td>\n",
       "      <td>18</td>\n",
       "      <td>138</td>\n",
       "      <td>-122.413935</td>\n",
       "      <td>37.751693</td>\n",
       "      <td>SECONDARY CODES</td>\n",
       "      <td>0</td>\n",
       "      <td>0</td>\n",
       "      <td>0</td>\n",
       "      <td>1</td>\n",
       "      <td>0</td>\n",
       "      <td>0</td>\n",
       "      <td>0</td>\n",
       "      <td>0</td>\n",
       "      <td>0</td>\n",
       "      <td>0</td>\n",
       "    </tr>\n",
       "    <tr>\n",
       "      <td>...</td>\n",
       "      <td>...</td>\n",
       "      <td>...</td>\n",
       "      <td>...</td>\n",
       "      <td>...</td>\n",
       "      <td>...</td>\n",
       "      <td>...</td>\n",
       "      <td>...</td>\n",
       "      <td>...</td>\n",
       "      <td>...</td>\n",
       "      <td>...</td>\n",
       "      <td>...</td>\n",
       "      <td>...</td>\n",
       "      <td>...</td>\n",
       "      <td>...</td>\n",
       "      <td>...</td>\n",
       "      <td>...</td>\n",
       "    </tr>\n",
       "    <tr>\n",
       "      <td>2215019</td>\n",
       "      <td>2006-10-09</td>\n",
       "      <td>19</td>\n",
       "      <td>19</td>\n",
       "      <td>-122.405602</td>\n",
       "      <td>37.777265</td>\n",
       "      <td>MISSING PERSON</td>\n",
       "      <td>0</td>\n",
       "      <td>0</td>\n",
       "      <td>0</td>\n",
       "      <td>0</td>\n",
       "      <td>0</td>\n",
       "      <td>0</td>\n",
       "      <td>0</td>\n",
       "      <td>1</td>\n",
       "      <td>0</td>\n",
       "      <td>0</td>\n",
       "    </tr>\n",
       "    <tr>\n",
       "      <td>2215020</td>\n",
       "      <td>2013-04-30</td>\n",
       "      <td>23</td>\n",
       "      <td>47</td>\n",
       "      <td>-122.419699</td>\n",
       "      <td>37.752951</td>\n",
       "      <td>VEHICLE THEFT</td>\n",
       "      <td>0</td>\n",
       "      <td>0</td>\n",
       "      <td>0</td>\n",
       "      <td>1</td>\n",
       "      <td>0</td>\n",
       "      <td>0</td>\n",
       "      <td>0</td>\n",
       "      <td>0</td>\n",
       "      <td>0</td>\n",
       "      <td>0</td>\n",
       "    </tr>\n",
       "    <tr>\n",
       "      <td>2215021</td>\n",
       "      <td>2003-01-29</td>\n",
       "      <td>13</td>\n",
       "      <td>61</td>\n",
       "      <td>-122.402210</td>\n",
       "      <td>37.728104</td>\n",
       "      <td>OTHER OFFENSES</td>\n",
       "      <td>1</td>\n",
       "      <td>0</td>\n",
       "      <td>0</td>\n",
       "      <td>0</td>\n",
       "      <td>0</td>\n",
       "      <td>0</td>\n",
       "      <td>0</td>\n",
       "      <td>0</td>\n",
       "      <td>0</td>\n",
       "      <td>0</td>\n",
       "    </tr>\n",
       "    <tr>\n",
       "      <td>2215022</td>\n",
       "      <td>2004-02-13</td>\n",
       "      <td>16</td>\n",
       "      <td>112</td>\n",
       "      <td>-122.402219</td>\n",
       "      <td>37.795713</td>\n",
       "      <td>LARCENY/THEFT</td>\n",
       "      <td>0</td>\n",
       "      <td>1</td>\n",
       "      <td>0</td>\n",
       "      <td>0</td>\n",
       "      <td>0</td>\n",
       "      <td>0</td>\n",
       "      <td>0</td>\n",
       "      <td>0</td>\n",
       "      <td>0</td>\n",
       "      <td>0</td>\n",
       "    </tr>\n",
       "    <tr>\n",
       "      <td>2215023</td>\n",
       "      <td>2010-08-24</td>\n",
       "      <td>14</td>\n",
       "      <td>38</td>\n",
       "      <td>-122.419877</td>\n",
       "      <td>37.769580</td>\n",
       "      <td>OTHER OFFENSES</td>\n",
       "      <td>0</td>\n",
       "      <td>0</td>\n",
       "      <td>0</td>\n",
       "      <td>1</td>\n",
       "      <td>0</td>\n",
       "      <td>0</td>\n",
       "      <td>0</td>\n",
       "      <td>0</td>\n",
       "      <td>0</td>\n",
       "      <td>0</td>\n",
       "    </tr>\n",
       "  </tbody>\n",
       "</table>\n",
       "<p>2215023 rows × 16 columns</p>\n",
       "</div>"
      ],
      "text/plain": [
       "              Date  Hour  HourOfTheWeek           X          Y  \\\n",
       "0       2011-04-15    16            112 -122.476328  37.719687   \n",
       "1       2009-03-26    12             84 -122.411340  37.781271   \n",
       "2       2013-02-15     2             98 -122.435188  37.762670   \n",
       "3       2008-01-15    20             44 -122.421886  37.764918   \n",
       "4       2007-05-26    18            138 -122.413935  37.751693   \n",
       "...            ...   ...            ...         ...        ...   \n",
       "2215019 2006-10-09    19             19 -122.405602  37.777265   \n",
       "2215020 2013-04-30    23             47 -122.419699  37.752951   \n",
       "2215021 2003-01-29    13             61 -122.402210  37.728104   \n",
       "2215022 2004-02-13    16            112 -122.402219  37.795713   \n",
       "2215023 2010-08-24    14             38 -122.419877  37.769580   \n",
       "\n",
       "                Category  pddistrict_BAYVIEW  pddistrict_CENTRAL  \\\n",
       "0         MISSING PERSON                   0                   0   \n",
       "1               WARRANTS                   0                   0   \n",
       "2        SECONDARY CODES                   0                   0   \n",
       "3         OTHER OFFENSES                   0                   0   \n",
       "4        SECONDARY CODES                   0                   0   \n",
       "...                  ...                 ...                 ...   \n",
       "2215019   MISSING PERSON                   0                   0   \n",
       "2215020    VEHICLE THEFT                   0                   0   \n",
       "2215021   OTHER OFFENSES                   1                   0   \n",
       "2215022    LARCENY/THEFT                   0                   1   \n",
       "2215023   OTHER OFFENSES                   0                   0   \n",
       "\n",
       "         pddistrict_INGLESIDE  pddistrict_MISSION  pddistrict_NORTHERN  \\\n",
       "0                           0                   0                    0   \n",
       "1                           0                   0                    0   \n",
       "2                           0                   0                    0   \n",
       "3                           0                   1                    0   \n",
       "4                           0                   1                    0   \n",
       "...                       ...                 ...                  ...   \n",
       "2215019                     0                   0                    0   \n",
       "2215020                     0                   1                    0   \n",
       "2215021                     0                   0                    0   \n",
       "2215022                     0                   0                    0   \n",
       "2215023                     0                   1                    0   \n",
       "\n",
       "         pddistrict_PARK  pddistrict_RICHMOND  pddistrict_SOUTHERN  \\\n",
       "0                      0                    0                    0   \n",
       "1                      0                    0                    1   \n",
       "2                      1                    0                    0   \n",
       "3                      0                    0                    0   \n",
       "4                      0                    0                    0   \n",
       "...                  ...                  ...                  ...   \n",
       "2215019                0                    0                    1   \n",
       "2215020                0                    0                    0   \n",
       "2215021                0                    0                    0   \n",
       "2215022                0                    0                    0   \n",
       "2215023                0                    0                    0   \n",
       "\n",
       "         pddistrict_TARAVAL  pddistrict_TENDERLOIN  \n",
       "0                         1                      0  \n",
       "1                         0                      0  \n",
       "2                         0                      0  \n",
       "3                         0                      0  \n",
       "4                         0                      0  \n",
       "...                     ...                    ...  \n",
       "2215019                   0                      0  \n",
       "2215020                   0                      0  \n",
       "2215021                   0                      0  \n",
       "2215022                   0                      0  \n",
       "2215023                   0                      0  \n",
       "\n",
       "[2215023 rows x 16 columns]"
      ]
     },
     "execution_count": 266,
     "metadata": {},
     "output_type": "execute_result"
    }
   ],
   "source": [
    "#filter the columns to use to fit the classifier from data\n",
    "# will keep Date and Hour for weather data exercise\n",
    "datacols = ['Date', 'Hour','HourOfTheWeek', 'X', 'Y', 'Category']\n",
    "datacols += pd_columns\n",
    "dtcrimedata = dataencoded[datacols]\n",
    "dtcrimedata"
   ]
  },
  {
   "cell_type": "markdown",
   "metadata": {},
   "source": [
    "The crimes picked for training and prediction are: \n",
    "- **BURGLARY**: as a crime influenced by the weather. When there is bad weather people may tend to stay home and burglaries often happen when people are not home\n",
    "- **FRAUD**: as a crime NOT influenced by the weather. It does not seem to be a reasonable connection between weather and this crime"
   ]
  },
  {
   "cell_type": "code",
   "execution_count": 267,
   "metadata": {},
   "outputs": [],
   "source": [
    "crime1 = \"BURGLARY\"\n",
    "crime2 = \"FRAUD\""
   ]
  },
  {
   "cell_type": "code",
   "execution_count": 268,
   "metadata": {},
   "outputs": [
    {
     "name": "stdout",
     "output_type": "stream",
     "text": [
      "Dataset size for category BURGLARY: 91543\n",
      "Dataset size for category FRAUD: 41542\n"
     ]
    }
   ],
   "source": [
    "print(f\"Dataset size for category {crime1}: {len(dtcrimedata[dtcrimedata.Category == crime1])}\")\n",
    "print(f\"Dataset size for category {crime2}: {len(dtcrimedata[dtcrimedata.Category == crime2])}\")"
   ]
  },
  {
   "cell_type": "markdown",
   "metadata": {},
   "source": [
    "### Feature analysis\n",
    "We are going to analyze the different spatial/temporal attributes to highlight possible ones which differentiate the two crimes and could therefore be included in the classifier training."
   ]
  },
  {
   "cell_type": "code",
   "execution_count": 269,
   "metadata": {},
   "outputs": [],
   "source": [
    "def plot_feature(data, feature, crimes, figsize=(15,5)):\n",
    "    fig, axes = plt.subplots(nrows=1, ncols=2, figsize=figsize)\n",
    "    #fig.suptitle(\"Hour\")\n",
    "    for i, crime in enumerate(crimes):\n",
    "        axi=axes[i]\n",
    "        axi.set_title(crime, y=0.80)\n",
    "        axi.margins(y=0.3)\n",
    "        axi.set_ylabel('Crimes')\n",
    "        data[(data.Category == crime)]\\\n",
    "        .groupby(feature).count().IncidntNum\\\n",
    "        .plot(ax=axi, kind='bar')\n",
    "        if feature == \"HourOfTheWeek\":\n",
    "            axi.set_xlabel(\"Hour of the day throughout the week (Days start at 12 AM)\")\n",
    "            bars = ('Monday', 'Tuesday', 'Wednesday', 'Thursday', 'Friday', 'Saturday','Sunday')\n",
    "            y_pos = (0, 24, 48, 72, 96, 120, 144)\n",
    "            axi.set_xticks(y_pos)\n",
    "            axi.set_xticklabels(bars)\n",
    "            axi.tick_params(axis='x', which=\"minor\",length=0)"
   ]
  },
  {
   "cell_type": "markdown",
   "metadata": {},
   "source": [
    "#### Hour of the day"
   ]
  },
  {
   "cell_type": "code",
   "execution_count": 243,
   "metadata": {},
   "outputs": [
    {
     "data": {
      "image/png": "[encoded data removed]",
      "text/plain": [
       "<Figure size 1080x360 with 2 Axes>"
      ]
     },
     "metadata": {
      "needs_background": "light"
     },
     "output_type": "display_data"
    }
   ],
   "source": [
    "plot_feature(crimedata, \"Hour\", [crime1, crime2])"
   ]
  },
  {
   "cell_type": "markdown",
   "metadata": {},
   "source": [
    "#### Hour of the week"
   ]
  },
  {
   "cell_type": "code",
   "execution_count": 244,
   "metadata": {
    "scrolled": true
   },
   "outputs": [
    {
     "data": {
      "image/png": "[encoded data removed]",
      "text/plain": [
       "<Figure size 1080x360 with 2 Axes>"
      ]
     },
     "metadata": {
      "needs_background": "light"
     },
     "output_type": "display_data"
    }
   ],
   "source": [
    "plot_feature(crimedata, \"HourOfTheWeek\", [crime1, crime2])"
   ]
  },
  {
   "cell_type": "markdown",
   "metadata": {},
   "source": [
    "#### Day of the week"
   ]
  },
  {
   "cell_type": "code",
   "execution_count": 245,
   "metadata": {},
   "outputs": [
    {
     "data": {
      "image/png": "[encoded data removed]",
      "text/plain": [
       "<Figure size 1080x360 with 2 Axes>"
      ]
     },
     "metadata": {
      "needs_background": "light"
     },
     "output_type": "display_data"
    }
   ],
   "source": [
    "plot_feature(crimedata, \"DayOfWeek\", [crime1, crime2])"
   ]
  },
  {
   "cell_type": "markdown",
   "metadata": {},
   "source": [
    "#### Month"
   ]
  },
  {
   "cell_type": "code",
   "execution_count": 246,
   "metadata": {
    "scrolled": false
   },
   "outputs": [
    {
     "data": {
      "image/png": "[encoded data removed]",
      "text/plain": [
       "<Figure size 1080x360 with 2 Axes>"
      ]
     },
     "metadata": {
      "needs_background": "light"
     },
     "output_type": "display_data"
    }
   ],
   "source": [
    "plot_feature(crimedata, \"Month\", [crime1, crime2])"
   ]
  },
  {
   "cell_type": "markdown",
   "metadata": {},
   "source": [
    "#### PD District"
   ]
  },
  {
   "cell_type": "code",
   "execution_count": 247,
   "metadata": {},
   "outputs": [
    {
     "data": {
      "image/png": "[encoded data removed]",
      "text/plain": [
       "<Figure size 1080x360 with 2 Axes>"
      ]
     },
     "metadata": {
      "needs_background": "light"
     },
     "output_type": "display_data"
    }
   ],
   "source": [
    "plot_feature(crimedata, \"PdDistrict\", [crime1, crime2])"
   ]
  },
  {
   "cell_type": "markdown",
   "metadata": {},
   "source": [
    "#### Conclusions\n",
    "From these informal visualizations we can conclude that the most informative features are HourOfTheWeek and Hour, along with PdDistrict that also shows some interesting differences for the two crimes as well. The other features show a similar patterns for both crimes and would not help the classifier in correctly predict the crimes."
   ]
  },
  {
   "cell_type": "markdown",
   "metadata": {},
   "source": [
    "### Fitting functions"
   ]
  },
  {
   "cell_type": "code",
   "execution_count": 271,
   "metadata": {},
   "outputs": [],
   "source": [
    "#Sample balanced dataset\n",
    "samplesizepercat = min(len(dtcrimedata[dtcrimedata.Category == crime1]),len(dtcrimedata[dtcrimedata.Category == crime2]))\n",
    "\n",
    "crime1sample = dtcrimedata[dtcrimedata.Category == crime1].sample(n=samplesizepercat)\n",
    "crime2sample = dtcrimedata[dtcrimedata.Category == crime2].sample(n=samplesizepercat)\n",
    "\n",
    "balanceddataset = pd.concat([crime1sample, crime2sample])"
   ]
  },
  {
   "cell_type": "code",
   "execution_count": 345,
   "metadata": {},
   "outputs": [],
   "source": [
    "def fit_and_predict(X, y):\n",
    "    X_train, X_test, y_train, y_test = train_test_split(X, y, test_size=0.05, random_state=42)\n",
    "    clf = RandomForestClassifier(n_estimators=100, min_samples_split=2, random_state=5, class_weight=\"balanced\")\n",
    "    clf.fit(X_train, y_train)\n",
    "    y_predict = clf.predict(X_test)\n",
    "    return y_test, y_predict"
   ]
  },
  {
   "cell_type": "code",
   "execution_count": 346,
   "metadata": {},
   "outputs": [],
   "source": [
    "def fit_and_predict_training_data(X, y):\n",
    "    X_train, X_test, y_train, y_test = train_test_split(X, y, test_size=0.05, random_state=42)\n",
    "    clf = RandomForestClassifier(n_estimators=100, min_samples_split=2, random_state=5, class_weight=\"balanced\")\n",
    "    clf.fit(X_train, y_train)\n",
    "    y_train_predict = clf.predict(X_train)\n",
    "    return y_train, y_train_predict"
   ]
  },
  {
   "cell_type": "code",
   "execution_count": 307,
   "metadata": {},
   "outputs": [],
   "source": [
    "def print_confusion_matrix(y_test, y_predict, crime1, crime2):\n",
    "    cf_matrix = confusion_matrix(y_test, y_predict)\n",
    "    labels = [f\"True {crime1}\",f\"False {crime1}\",f\"False {crime2}\",f\"True {crime2}\"]\n",
    "    labels = np.asarray(labels).reshape(2,2)\n",
    "    ax =  sns.heatmap(cf_matrix, annot=labels, fmt='', cmap='Blues')\n",
    "    bottom, top = ax.get_ylim()\n",
    "    ax.set_ylim(bottom + 0.5, top - 0.5)\n",
    "    return ax"
   ]
  },
  {
   "cell_type": "markdown",
   "metadata": {},
   "source": [
    "### Testing feature sets"
   ]
  },
  {
   "cell_type": "markdown",
   "metadata": {},
   "source": [
    "#### We will try only the HourOfTheWeek along with PdDistrict"
   ]
  },
  {
   "cell_type": "code",
   "execution_count": 319,
   "metadata": {},
   "outputs": [
    {
     "name": "stdout",
     "output_type": "stream",
     "text": [
      "Columns used: ['HourOfTheWeek' 'X' 'Y' 'pddistrict_BAYVIEW' 'pddistrict_CENTRAL'\n",
      " 'pddistrict_INGLESIDE' 'pddistrict_MISSION' 'pddistrict_NORTHERN'\n",
      " 'pddistrict_PARK' 'pddistrict_RICHMOND' 'pddistrict_SOUTHERN'\n",
      " 'pddistrict_TARAVAL' 'pddistrict_TENDERLOIN']\n"
     ]
    }
   ],
   "source": [
    "X = balanceddataset.drop(['Date', 'Hour', 'Category'], axis=1)\n",
    "print(f\"Columns used: {X.columns.values}\")\n",
    "y_test, y_predict = fit_and_predict(X, y)"
   ]
  },
  {
   "cell_type": "code",
   "execution_count": 320,
   "metadata": {},
   "outputs": [
    {
     "data": {
      "text/plain": [
       "[]"
      ]
     },
     "execution_count": 320,
     "metadata": {},
     "output_type": "execute_result"
    },
    {
     "data": {
      "image/png": "[encoded data removed]",
      "text/plain": [
       "<Figure size 432x288 with 2 Axes>"
      ]
     },
     "metadata": {
      "needs_background": "light"
     },
     "output_type": "display_data"
    }
   ],
   "source": [
    "print_confusion_matrix(y_test, y_predict, crime1, crime2).plot()"
   ]
  },
  {
   "cell_type": "code",
   "execution_count": 321,
   "metadata": {},
   "outputs": [
    {
     "name": "stdout",
     "output_type": "stream",
     "text": [
      "              precision    recall  f1-score   support\n",
      "\n",
      "    BURGLARY       0.65      0.67      0.66      2069\n",
      "       FRAUD       0.66      0.64      0.65      2086\n",
      "\n",
      "    accuracy                           0.65      4155\n",
      "   macro avg       0.65      0.65      0.65      4155\n",
      "weighted avg       0.65      0.65      0.65      4155\n",
      "\n"
     ]
    }
   ],
   "source": [
    "print(classification_report(y_test, y_predict))"
   ]
  },
  {
   "cell_type": "markdown",
   "metadata": {},
   "source": [
    "#### We will try Hour, HourOfTheWeek and PdDistrict features"
   ]
  },
  {
   "cell_type": "code",
   "execution_count": 322,
   "metadata": {},
   "outputs": [
    {
     "name": "stdout",
     "output_type": "stream",
     "text": [
      "Columns used: ['Hour' 'HourOfTheWeek' 'X' 'Y' 'pddistrict_BAYVIEW' 'pddistrict_CENTRAL'\n",
      " 'pddistrict_INGLESIDE' 'pddistrict_MISSION' 'pddistrict_NORTHERN'\n",
      " 'pddistrict_PARK' 'pddistrict_RICHMOND' 'pddistrict_SOUTHERN'\n",
      " 'pddistrict_TARAVAL' 'pddistrict_TENDERLOIN']\n"
     ]
    }
   ],
   "source": [
    "X = balanceddataset.drop(['Date', 'Category'], axis=1)\n",
    "print(f\"Columns used: {X.columns.values}\")\n",
    "y_test, y_predict = fit_and_predict(X, y)"
   ]
  },
  {
   "cell_type": "code",
   "execution_count": 323,
   "metadata": {},
   "outputs": [
    {
     "data": {
      "text/plain": [
       "[]"
      ]
     },
     "execution_count": 323,
     "metadata": {},
     "output_type": "execute_result"
    },
    {
     "data": {
      "image/png": "[encoded data removed]",
      "text/plain": [
       "<Figure size 432x288 with 2 Axes>"
      ]
     },
     "metadata": {
      "needs_background": "light"
     },
     "output_type": "display_data"
    }
   ],
   "source": [
    "print_confusion_matrix(y_test, y_predict, crime1, crime2).plot()"
   ]
  },
  {
   "cell_type": "code",
   "execution_count": 326,
   "metadata": {},
   "outputs": [
    {
     "name": "stdout",
     "output_type": "stream",
     "text": [
      "              precision    recall  f1-score   support\n",
      "\n",
      "    BURGLARY       0.66      0.67      0.67      2069\n",
      "       FRAUD       0.67      0.66      0.66      2086\n",
      "\n",
      "    accuracy                           0.66      4155\n",
      "   macro avg       0.67      0.67      0.66      4155\n",
      "weighted avg       0.67      0.66      0.66      4155\n",
      "\n"
     ]
    }
   ],
   "source": [
    "print(classification_report(y_test, y_predict))"
   ]
  },
  {
   "cell_type": "markdown",
   "metadata": {},
   "source": [
    "We will try only the **Hour** along with **PdDistrict**"
   ]
  },
  {
   "cell_type": "code",
   "execution_count": 316,
   "metadata": {},
   "outputs": [
    {
     "name": "stdout",
     "output_type": "stream",
     "text": [
      "Columns used: ['Hour' 'X' 'Y' 'pddistrict_BAYVIEW' 'pddistrict_CENTRAL'\n",
      " 'pddistrict_INGLESIDE' 'pddistrict_MISSION' 'pddistrict_NORTHERN'\n",
      " 'pddistrict_PARK' 'pddistrict_RICHMOND' 'pddistrict_SOUTHERN'\n",
      " 'pddistrict_TARAVAL' 'pddistrict_TENDERLOIN']\n"
     ]
    }
   ],
   "source": [
    "y = balanceddataset.Category\n",
    "X = balanceddataset.drop(['Date', 'HourOfTheWeek', 'Category'], axis=1)\n",
    "print(f\"Columns used: {X.columns.values}\")\n",
    "y_test, y_predict = fit_and_predict(X, y)"
   ]
  },
  {
   "cell_type": "code",
   "execution_count": 317,
   "metadata": {},
   "outputs": [
    {
     "data": {
      "text/plain": [
       "[]"
      ]
     },
     "execution_count": 317,
     "metadata": {},
     "output_type": "execute_result"
    },
    {
     "data": {
      "image/png": "[encoded data removed]",
      "text/plain": [
       "<Figure size 432x288 with 2 Axes>"
      ]
     },
     "metadata": {
      "needs_background": "light"
     },
     "output_type": "display_data"
    }
   ],
   "source": [
    "print_confusion_matrix(y_test, y_predict, crime1, crime2).plot()"
   ]
  },
  {
   "cell_type": "code",
   "execution_count": 318,
   "metadata": {
    "scrolled": true
   },
   "outputs": [
    {
     "name": "stdout",
     "output_type": "stream",
     "text": [
      "              precision    recall  f1-score   support\n",
      "\n",
      "    BURGLARY       0.68      0.68      0.68      2069\n",
      "       FRAUD       0.68      0.69      0.68      2086\n",
      "\n",
      "    accuracy                           0.68      4155\n",
      "   macro avg       0.68      0.68      0.68      4155\n",
      "weighted avg       0.68      0.68      0.68      4155\n",
      "\n"
     ]
    }
   ],
   "source": [
    "print(classification_report(y_test, y_predict))"
   ]
  },
  {
   "cell_type": "markdown",
   "metadata": {},
   "source": [
    "### Unbalanced dataset performance\n",
    "Giving the optimal feature selection from the previous section, we test the perfomance on the unbalanced dataset"
   ]
  },
  {
   "cell_type": "code",
   "execution_count": 341,
   "metadata": {},
   "outputs": [],
   "source": [
    "crime1sample = dtcrimedata[dtcrimedata.Category == crime1]\n",
    "crime2sample = dtcrimedata[dtcrimedata.Category == crime2]\n",
    "\n",
    "unbalanceddataset = pd.concat([crime1sample, crime2sample])"
   ]
  },
  {
   "cell_type": "code",
   "execution_count": 342,
   "metadata": {},
   "outputs": [
    {
     "name": "stdout",
     "output_type": "stream",
     "text": [
      "Columns used: ['Hour' 'X' 'Y' 'pddistrict_BAYVIEW' 'pddistrict_CENTRAL'\n",
      " 'pddistrict_INGLESIDE' 'pddistrict_MISSION' 'pddistrict_NORTHERN'\n",
      " 'pddistrict_PARK' 'pddistrict_RICHMOND' 'pddistrict_SOUTHERN'\n",
      " 'pddistrict_TARAVAL' 'pddistrict_TENDERLOIN']\n"
     ]
    }
   ],
   "source": [
    "y = unbalanceddataset.Category\n",
    "X = unbalanceddataset.drop(['Date', 'HourOfTheWeek', 'Category'], axis=1)\n",
    "print(f\"Columns used: {X.columns.values}\")\n",
    "y_test, y_predict = fit_and_predict(X, y)"
   ]
  },
  {
   "cell_type": "code",
   "execution_count": 343,
   "metadata": {},
   "outputs": [
    {
     "data": {
      "text/plain": [
       "[]"
      ]
     },
     "execution_count": 343,
     "metadata": {},
     "output_type": "execute_result"
    },
    {
     "data": {
      "image/png": "[encoded data removed]",
      "text/plain": [
       "<Figure size 432x288 with 2 Axes>"
      ]
     },
     "metadata": {
      "needs_background": "light"
     },
     "output_type": "display_data"
    }
   ],
   "source": [
    "print_confusion_matrix(y_test, y_predict, crime1, crime2).plot()"
   ]
  },
  {
   "cell_type": "code",
   "execution_count": 344,
   "metadata": {},
   "outputs": [
    {
     "name": "stdout",
     "output_type": "stream",
     "text": [
      "              precision    recall  f1-score   support\n",
      "\n",
      "    BURGLARY       0.79      0.82      0.80      4531\n",
      "       FRAUD       0.58      0.53      0.55      2124\n",
      "\n",
      "    accuracy                           0.73      6655\n",
      "   macro avg       0.68      0.67      0.68      6655\n",
      "weighted avg       0.72      0.73      0.72      6655\n",
      "\n"
     ]
    }
   ],
   "source": [
    "print(classification_report(y_test, y_predict))"
   ]
  },
  {
   "cell_type": "markdown",
   "metadata": {},
   "source": [
    "### Comments\n",
    "#### Balanced dataset\n",
    "As it can be seen in the previous section (**Unbalanced dataset performance**), the classifier trained on the unbalanced dataset predicts much better the most predominant category. This is due to the bigger proportion of observations in the dataset from that category - which leads to a more precise classifier (more data to learn from), and a general tendency for the model to predict many more new observations as belonging to that category since this will often be the right answer. We opted for a balanced dataset which provides almost the same classification result (f1 score among the others) for both categories. This way the classifier learns to classify the categories based on their differencies in behaviors and patterns rather than preferring one over the other due to a larger probability of guessing correctly.\n",
    "#### Encoding\n",
    "**PdDistrict** has been encoded into a one-hot encoding. This is due to its nature not having a ordinal relationship between values. One hot encoding solves this by creating a binary column for each value of that feature.\n",
    "#### Features\n",
    "From our initial visual comparison of the classification results with the different combinations of features - it looks like the combination of only the ****Hour**** feature along with ****PdDistrict**** and both ****X**** and ****Y**** coordinate is the one that gives the best performance."
   ]
  },
  {
   "cell_type": "markdown",
   "metadata": {},
   "source": [
    "#### Overfitting\n",
    "In order to assess whether the classifier overfits the training set, we can compare the performance of the classifier on the training data and on the test data. Ideally we would get the same (high) prediction results on both the datasets."
   ]
  },
  {
   "cell_type": "code",
   "execution_count": 352,
   "metadata": {},
   "outputs": [
    {
     "name": "stdout",
     "output_type": "stream",
     "text": [
      "Columns used: ['Hour' 'X' 'Y' 'pddistrict_BAYVIEW' 'pddistrict_CENTRAL'\n",
      " 'pddistrict_INGLESIDE' 'pddistrict_MISSION' 'pddistrict_NORTHERN'\n",
      " 'pddistrict_PARK' 'pddistrict_RICHMOND' 'pddistrict_SOUTHERN'\n",
      " 'pddistrict_TARAVAL' 'pddistrict_TENDERLOIN']\n"
     ]
    }
   ],
   "source": [
    "# Extract X features and y column\n",
    "y = balanceddataset.Category\n",
    "X = balanceddataset.drop(['Date', 'HourOfTheWeek', 'Category'], axis=1)\n",
    "print(f\"Columns used: {X.columns.values}\")"
   ]
  },
  {
   "cell_type": "markdown",
   "metadata": {},
   "source": [
    "##### Results of prediction on training data"
   ]
  },
  {
   "cell_type": "code",
   "execution_count": 353,
   "metadata": {},
   "outputs": [
    {
     "name": "stdout",
     "output_type": "stream",
     "text": [
      "              precision    recall  f1-score   support\n",
      "\n",
      "    BURGLARY       0.94      0.91      0.92     39473\n",
      "       FRAUD       0.91      0.94      0.93     39456\n",
      "\n",
      "    accuracy                           0.93     78929\n",
      "   macro avg       0.93      0.93      0.93     78929\n",
      "weighted avg       0.93      0.93      0.93     78929\n",
      "\n"
     ]
    }
   ],
   "source": [
    "y_train, y_train_predict = fit_and_predict_training_data(X, y)\n",
    "print(classification_report(y_train, y_train_predict))"
   ]
  },
  {
   "cell_type": "markdown",
   "metadata": {},
   "source": [
    "##### Results of prediction on test data"
   ]
  },
  {
   "cell_type": "code",
   "execution_count": 354,
   "metadata": {},
   "outputs": [
    {
     "name": "stdout",
     "output_type": "stream",
     "text": [
      "              precision    recall  f1-score   support\n",
      "\n",
      "    BURGLARY       0.66      0.68      0.67      2069\n",
      "       FRAUD       0.67      0.66      0.67      2086\n",
      "\n",
      "    accuracy                           0.67      4155\n",
      "   macro avg       0.67      0.67      0.67      4155\n",
      "weighted avg       0.67      0.67      0.67      4155\n",
      "\n"
     ]
    }
   ],
   "source": [
    "y_test, y_predict = fit_and_predict(X, y)\n",
    "print(classification_report(y_test, y_predict))"
   ]
  },
  {
   "cell_type": "markdown",
   "metadata": {},
   "source": [
    "The results show a **possible overfitting**. This could be resolved by increasing the dataset size of with cross validation"
   ]
  },
  {
   "cell_type": "markdown",
   "metadata": {},
   "source": [
    "## Part 2B: Info from weather features.\n",
    "* Now add features from weather data to your random forest. \n",
    "  - Report accuracy. \n",
    "  - Discuss how the model performance changes relative to the version with no weather data.\n",
    "  - Discuss what you have learned about crime from including weather data in your model."
   ]
  },
  {
   "cell_type": "markdown",
   "metadata": {},
   "source": [
    "## Part 3: Data visualization\n",
    "\n",
    "* Create the Bokeh visualization from Part 2 of the Week 8 Lecture, displayed in a beautiful `.gif` below. \n",
    "* Provide nice comments for your code. Don't just use the `# inline comments`, but the full Notebook markdown capabilities and explain what you're doing.\n",
    "\n",
    "![Movie](https://github.com/suneman/socialdataanalysis2020/blob/master/files/week8_1.gif?raw=true \"movie\")"
   ]
  },
  {
   "cell_type": "code",
   "execution_count": null,
   "metadata": {},
   "outputs": [],
   "source": []
  }
 ],
 "metadata": {
  "kernelspec": {
   "display_name": "Python 3",
   "language": "python",
   "name": "python3"
  },
  "language_info": {
   "codemirror_mode": {
    "name": "ipython",
    "version": 3
   },
   "file_extension": ".py",
   "mimetype": "text/x-python",
   "name": "python",
   "nbconvert_exporter": "python",
   "pygments_lexer": "ipython3",
   "version": "3.7.4"
  }
 },
 "nbformat": 4,
 "nbformat_minor": 2
}
