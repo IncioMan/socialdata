{
 "cells": [
  {
   "cell_type": "markdown",
   "metadata": {},
   "source": [
    "# Dataset exploration"
   ]
  },
  {
   "cell_type": "code",
   "execution_count": 238,
   "metadata": {},
   "outputs": [],
   "source": [
    "# Load the Pandas libraries with alias 'pd' \n",
    "import pandas as pd\n",
    "import matplotlib.pyplot as plt\n",
    "import seaborn as sns\n",
    "import numpy as np"
   ]
  },
  {
   "cell_type": "markdown",
   "metadata": {},
   "source": [
    "## Traffic data\n",
    "\n",
    "https://www.opendata.dk/vejdirektoratet/stojdata-mastra\n",
    "\n",
    "http://noegletal.dk/noegletal/"
   ]
  },
  {
   "cell_type": "markdown",
   "metadata": {},
   "source": [
    "| Variable name | Description |\n",
    "|---------------------|:--------------------------------------------------------------------------------------------------------------------------------------------------------------------------------------------------------------------------|\n",
    "| DATAEJER | The owner of the traffic key figures - is displayed as the municipality number. The Road Directorate stands as data owner 0. |\n",
    "| VEJBESTYRER | The road manager at the counting point - appears as a municipality number. The Road Directorate stands as road manager 0. |\n",
    "| VEJNR | The administrative road number as stated in CVF (The Central Road and Path List, see cvf.dk) |\n",
    "| VEJDEL | The road section of the counting point, in some municipalities also referred to as the Side Road Number. Is generally '0', or starts with '0', for regular road. |\n",
    "| VEJNAVN | The name of the road at the counting point. |\n",
    "| KILOMETER | The mileage indication - the counting point has a so-called mileage (stationing), which is typically the distance from the start of the road to the counting point; The mileage is then the mileage part of the mileage. |\n",
    "| METER | As above, it is just a meter part of the mileage. |\n",
    "| LOKATION | Description of the counting location |\n",
    "| KOMMUNE | The municipality number at the counting point |\n",
    "| KOERETOEJSART | Vehicle type, either Motor Vehicles (MOTORCTJ) or Bicycle moped (C / K) |\n",
    "| AAR | The year in which the count, or counts, were performed. |\n",
    "| AADT | Listed figures for annual traffic. Average number of vehicles per 24hour, taken over all days of the year. |\n",
    "| HDT | Listed figures for Everyday Day traffic. Average number of vehicles per 24hour taken over all weekdays of the year. Weekends, summer vacation period and holidays are not included |\n",
    "| JDT | Enumerated figures for July-Day traffic - traffic on a day in July |\n",
    "| TRAFIKTYPE | The type of traffic, which says something about the distribution of traffic over the year. |\n",
    "| GNS_HASTIGHED | The average measured speed of the counting point. |\n",
    "| TALTE_DAGE | Number of days counted within the year. |\n",
    "| AE10HOEJ | Equivalent 10-ton axes, usually referred to as Æ10 - a measure of the load of the road's bearing layer, calculated here for roads outside a designated urban area |\n",
    "| AE10LAV | Like AE10HOEJ, but in a decidedly urban area. |\n",
    "| LBIL_AADT | Truck EIGHT - EIGHT for trucks, here defined as vehicles with a total length of more than 5.80 meters. |\n",
    "| HAST_GRAENSE | The speed limit applicable at the counting point. |\n",
    "| FRAKTIL_PCT_15 | ! 5% speed quantile - the speed at which 15% of vehicles drive. |\n",
    "| FRAKTIL_PCT_85 | 85% speed quantile - the speed at which 85% of vehicles drive. |\n",
    "| PCT_OVER_HASTGR | Percentage of vehicles traveling above the speed limit, ie \"too fast\". |\n",
    "| PCT_OVER_HASTGR_P10 | Percentage of vehicles traveling above the speed limit + 10km / h - if the speed limit is 60km/h, that is the percentage of vehicles that drive above 70km/h. |\n",
    "| PCT_OVER_HASTGR_P20 | Percentage of vehicles traveling above the speed limit + 20km / h - if the speed limit is 60km/h, that is the percentage of vehicles that drive above 80km/h. |\n",
    "| LBIL_PCT | The percentage of trucks taken in relation to the total amount of motor vehicles. Trucks here are vehicles with a total length of more than 5.80 meters. |"
   ]
  },
  {
   "cell_type": "code",
   "execution_count": 239,
   "metadata": {},
   "outputs": [
    {
     "data": {
      "text/html": [
       "<div>\n",
       "<style scoped>\n",
       "    .dataframe tbody tr th:only-of-type {\n",
       "        vertical-align: middle;\n",
       "    }\n",
       "\n",
       "    .dataframe tbody tr th {\n",
       "        vertical-align: top;\n",
       "    }\n",
       "\n",
       "    .dataframe thead th {\n",
       "        text-align: right;\n",
       "    }\n",
       "</style>\n",
       "<table border=\"1\" class=\"dataframe\">\n",
       "  <thead>\n",
       "    <tr style=\"text-align: right;\">\n",
       "      <th></th>\n",
       "      <th>FID</th>\n",
       "      <th>Dataowner</th>\n",
       "      <th>RoadManager</th>\n",
       "      <th>RoadId</th>\n",
       "      <th>RoadPartId</th>\n",
       "      <th>RoadName</th>\n",
       "      <th>Kilometer</th>\n",
       "      <th>Meter</th>\n",
       "      <th>Location</th>\n",
       "      <th>Municipality</th>\n",
       "      <th>...</th>\n",
       "      <th>SpeedLimit</th>\n",
       "      <th>Quantile15</th>\n",
       "      <th>Quantile85</th>\n",
       "      <th>PctOverSpeedLimit</th>\n",
       "      <th>PctOverSpeedLimit10</th>\n",
       "      <th>PctOverSpeedLimit20</th>\n",
       "      <th>PctOfTrucks</th>\n",
       "      <th>Coordinates</th>\n",
       "      <th>Longitude</th>\n",
       "      <th>Latitude</th>\n",
       "    </tr>\n",
       "  </thead>\n",
       "  <tbody>\n",
       "    <tr>\n",
       "      <th>0</th>\n",
       "      <td>OPEN_DATA_NOEGLETAL_VIEW.fid--1778853a_17153ca...</td>\n",
       "      <td>751</td>\n",
       "      <td>751.0</td>\n",
       "      <td>7511252</td>\n",
       "      <td>0</td>\n",
       "      <td>Christian X´s Vej</td>\n",
       "      <td>0.0</td>\n",
       "      <td>540.0</td>\n",
       "      <td>Ml. Ellehammervej og Marconivej</td>\n",
       "      <td>751.0</td>\n",
       "      <td>...</td>\n",
       "      <td>50.0</td>\n",
       "      <td>NaN</td>\n",
       "      <td>NaN</td>\n",
       "      <td>NaN</td>\n",
       "      <td>NaN</td>\n",
       "      <td>NaN</td>\n",
       "      <td>NaN</td>\n",
       "      <td>POINT (573014.0000013472 6221529.999744055)</td>\n",
       "      <td>10.174776</td>\n",
       "      <td>56.133225937782534;</td>\n",
       "    </tr>\n",
       "    <tr>\n",
       "      <th>1</th>\n",
       "      <td>OPEN_DATA_NOEGLETAL_VIEW.fid--1778853a_17153ca...</td>\n",
       "      <td>851</td>\n",
       "      <td>851.0</td>\n",
       "      <td>8515246</td>\n",
       "      <td>0</td>\n",
       "      <td>Marathonvej</td>\n",
       "      <td>0.0</td>\n",
       "      <td>180.0</td>\n",
       "      <td>Fabriksparken / Hobrovej</td>\n",
       "      <td>851.0</td>\n",
       "      <td>...</td>\n",
       "      <td>50.0</td>\n",
       "      <td>34.8</td>\n",
       "      <td>53.9</td>\n",
       "      <td>27.1</td>\n",
       "      <td>3.7</td>\n",
       "      <td>0.4</td>\n",
       "      <td>3.3</td>\n",
       "      <td>POINT (551965.0000006577 6315761.999742397)</td>\n",
       "      <td>9.855032</td>\n",
       "      <td>56.982481704333544;</td>\n",
       "    </tr>\n",
       "    <tr>\n",
       "      <th>2</th>\n",
       "      <td>OPEN_DATA_NOEGLETAL_VIEW.fid--1778853a_17153ca...</td>\n",
       "      <td>851</td>\n",
       "      <td>851.0</td>\n",
       "      <td>8516178</td>\n",
       "      <td>0</td>\n",
       "      <td>Offenbachsvej</td>\n",
       "      <td>0.0</td>\n",
       "      <td>222.0</td>\n",
       "      <td>Mozartsvej / Telemannsvænget</td>\n",
       "      <td>851.0</td>\n",
       "      <td>...</td>\n",
       "      <td>50.0</td>\n",
       "      <td>27.1</td>\n",
       "      <td>42.3</td>\n",
       "      <td>1.4</td>\n",
       "      <td>0.1</td>\n",
       "      <td>0.0</td>\n",
       "      <td>1.7</td>\n",
       "      <td>POINT (549415.0000006119 6318575.999742349)</td>\n",
       "      <td>9.813631</td>\n",
       "      <td>57.008038318905875;</td>\n",
       "    </tr>\n",
       "    <tr>\n",
       "      <th>3</th>\n",
       "      <td>OPEN_DATA_NOEGLETAL_VIEW.fid--1778853a_17153ca...</td>\n",
       "      <td>NaN</td>\n",
       "      <td>NaN</td>\n",
       "      <td>NaN</td>\n",
       "      <td>NaN</td>\n",
       "      <td>NaN</td>\n",
       "      <td>NaN</td>\n",
       "      <td>NaN</td>\n",
       "      <td>NaN</td>\n",
       "      <td>NaN</td>\n",
       "      <td>...</td>\n",
       "      <td>NaN</td>\n",
       "      <td>NaN</td>\n",
       "      <td>NaN</td>\n",
       "      <td>NaN</td>\n",
       "      <td>NaN</td>\n",
       "      <td>NaN</td>\n",
       "      <td>NaN</td>\n",
       "      <td>NaN</td>\n",
       "      <td>NaN</td>\n",
       "      <td>NaN</td>\n",
       "    </tr>\n",
       "    <tr>\n",
       "      <th>4</th>\n",
       "      <td>OPEN_DATA_NOEGLETAL_VIEW.fid--1778853a_17153ca...</td>\n",
       "      <td>NaN</td>\n",
       "      <td>NaN</td>\n",
       "      <td>NaN</td>\n",
       "      <td>NaN</td>\n",
       "      <td>NaN</td>\n",
       "      <td>NaN</td>\n",
       "      <td>NaN</td>\n",
       "      <td>NaN</td>\n",
       "      <td>NaN</td>\n",
       "      <td>...</td>\n",
       "      <td>NaN</td>\n",
       "      <td>NaN</td>\n",
       "      <td>NaN</td>\n",
       "      <td>NaN</td>\n",
       "      <td>NaN</td>\n",
       "      <td>NaN</td>\n",
       "      <td>NaN</td>\n",
       "      <td>NaN</td>\n",
       "      <td>NaN</td>\n",
       "      <td>NaN</td>\n",
       "    </tr>\n",
       "  </tbody>\n",
       "</table>\n",
       "<p>5 rows × 31 columns</p>\n",
       "</div>"
      ],
      "text/plain": [
       "                                                 FID Dataowner  RoadManager  \\\n",
       "0  OPEN_DATA_NOEGLETAL_VIEW.fid--1778853a_17153ca...       751        751.0   \n",
       "1  OPEN_DATA_NOEGLETAL_VIEW.fid--1778853a_17153ca...       851        851.0   \n",
       "2  OPEN_DATA_NOEGLETAL_VIEW.fid--1778853a_17153ca...       851        851.0   \n",
       "3  OPEN_DATA_NOEGLETAL_VIEW.fid--1778853a_17153ca...       NaN          NaN   \n",
       "4  OPEN_DATA_NOEGLETAL_VIEW.fid--1778853a_17153ca...       NaN          NaN   \n",
       "\n",
       "    RoadId RoadPartId           RoadName  Kilometer  Meter  \\\n",
       "0  7511252          0  Christian X´s Vej        0.0  540.0   \n",
       "1  8515246          0        Marathonvej        0.0  180.0   \n",
       "2  8516178          0      Offenbachsvej        0.0  222.0   \n",
       "3      NaN        NaN                NaN        NaN    NaN   \n",
       "4      NaN        NaN                NaN        NaN    NaN   \n",
       "\n",
       "                          Location  Municipality         ...           \\\n",
       "0  Ml. Ellehammervej og Marconivej         751.0         ...            \n",
       "1         Fabriksparken / Hobrovej         851.0         ...            \n",
       "2     Mozartsvej / Telemannsvænget         851.0         ...            \n",
       "3                              NaN           NaN         ...            \n",
       "4                              NaN           NaN         ...            \n",
       "\n",
       "  SpeedLimit  Quantile15  Quantile85  PctOverSpeedLimit  PctOverSpeedLimit10  \\\n",
       "0       50.0         NaN         NaN                NaN                  NaN   \n",
       "1       50.0        34.8        53.9               27.1                  3.7   \n",
       "2       50.0        27.1        42.3                1.4                  0.1   \n",
       "3        NaN         NaN         NaN                NaN                  NaN   \n",
       "4        NaN         NaN         NaN                NaN                  NaN   \n",
       "\n",
       "  PctOverSpeedLimit20  PctOfTrucks  \\\n",
       "0                 NaN          NaN   \n",
       "1                 0.4          3.3   \n",
       "2                 0.0          1.7   \n",
       "3                 NaN          NaN   \n",
       "4                 NaN          NaN   \n",
       "\n",
       "                                   Coordinates  Longitude             Latitude  \n",
       "0  POINT (573014.0000013472 6221529.999744055)  10.174776  56.133225937782534;  \n",
       "1  POINT (551965.0000006577 6315761.999742397)   9.855032  56.982481704333544;  \n",
       "2  POINT (549415.0000006119 6318575.999742349)   9.813631  57.008038318905875;  \n",
       "3                                          NaN        NaN                  NaN  \n",
       "4                                          NaN        NaN                  NaN  \n",
       "\n",
       "[5 rows x 31 columns]"
      ]
     },
     "execution_count": 239,
     "metadata": {},
     "output_type": "execute_result"
    }
   ],
   "source": [
    "url = 'https://raw.githubusercontent.com/IncioMan/socialdata/master/Final%20Project/dataset/trafficdata_withlonlat_ver2.csv'\n",
    "traffic_data = pd.read_csv(url, error_bad_lines=False)\n",
    "traffic_data.head()"
   ]
  },
  {
   "cell_type": "code",
   "execution_count": 240,
   "metadata": {},
   "outputs": [
    {
     "data": {
      "text/plain": [
       "(26917, 31)"
      ]
     },
     "execution_count": 240,
     "metadata": {},
     "output_type": "execute_result"
    }
   ],
   "source": [
    "traffic_data.shape"
   ]
  },
  {
   "cell_type": "code",
   "execution_count": 241,
   "metadata": {},
   "outputs": [
    {
     "data": {
      "text/plain": [
       "26917"
      ]
     },
     "execution_count": 241,
     "metadata": {},
     "output_type": "execute_result"
    }
   ],
   "source": [
    "#Check that he FID variable is unique for each observation\n",
    "traffic_data.FID.unique().size"
   ]
  },
  {
   "cell_type": "code",
   "execution_count": 242,
   "metadata": {
    "scrolled": true
   },
   "outputs": [
    {
     "data": {
      "text/plain": [
       "FID                             object\n",
       "Dataowner                       object\n",
       "RoadManager                    float64\n",
       "RoadId                          object\n",
       "RoadPartId                      object\n",
       "RoadName                        object\n",
       "Kilometer                      float64\n",
       "Meter                          float64\n",
       "Location                        object\n",
       "Municipality                   float64\n",
       "TypeOfVehicle                   object\n",
       "Year                           float64\n",
       "AverageDailyVehicles           float64\n",
       "AverageWeekdayDailyVehicles    float64\n",
       "DailyJulyTraffic               float64\n",
       "Traffictype                     object\n",
       "AverageSpeed                   float64\n",
       "CountedDays                    float64\n",
       "AE10High                       float64\n",
       "AE10Low                        float64\n",
       "AverageDailyTrucks             float64\n",
       "SpeedLimit                      object\n",
       "Quantile15                     float64\n",
       "Quantile85                      object\n",
       "PctOverSpeedLimit              float64\n",
       "PctOverSpeedLimit10            float64\n",
       "PctOverSpeedLimit20            float64\n",
       "PctOfTrucks                    float64\n",
       "Coordinates                     object\n",
       "Longitude                      float64\n",
       "Latitude                        object\n",
       "dtype: object"
      ]
     },
     "execution_count": 242,
     "metadata": {},
     "output_type": "execute_result"
    }
   ],
   "source": [
    "traffic_data.dtypes"
   ]
  },
  {
   "cell_type": "code",
   "execution_count": 243,
   "metadata": {},
   "outputs": [
    {
     "data": {
      "text/html": [
       "<div>\n",
       "<style scoped>\n",
       "    .dataframe tbody tr th:only-of-type {\n",
       "        vertical-align: middle;\n",
       "    }\n",
       "\n",
       "    .dataframe tbody tr th {\n",
       "        vertical-align: top;\n",
       "    }\n",
       "\n",
       "    .dataframe thead th {\n",
       "        text-align: right;\n",
       "    }\n",
       "</style>\n",
       "<table border=\"1\" class=\"dataframe\">\n",
       "  <thead>\n",
       "    <tr style=\"text-align: right;\">\n",
       "      <th></th>\n",
       "      <th>RoadManager</th>\n",
       "      <th>Kilometer</th>\n",
       "      <th>Meter</th>\n",
       "      <th>Municipality</th>\n",
       "      <th>Year</th>\n",
       "      <th>AverageDailyVehicles</th>\n",
       "      <th>AverageWeekdayDailyVehicles</th>\n",
       "      <th>DailyJulyTraffic</th>\n",
       "      <th>AverageSpeed</th>\n",
       "      <th>CountedDays</th>\n",
       "      <th>AE10High</th>\n",
       "      <th>AE10Low</th>\n",
       "      <th>AverageDailyTrucks</th>\n",
       "      <th>Quantile15</th>\n",
       "      <th>PctOverSpeedLimit</th>\n",
       "      <th>PctOverSpeedLimit10</th>\n",
       "      <th>PctOverSpeedLimit20</th>\n",
       "      <th>PctOfTrucks</th>\n",
       "      <th>Longitude</th>\n",
       "    </tr>\n",
       "  </thead>\n",
       "  <tbody>\n",
       "    <tr>\n",
       "      <th>count</th>\n",
       "      <td>23835.000000</td>\n",
       "      <td>23835.000000</td>\n",
       "      <td>23835.000000</td>\n",
       "      <td>23835.000000</td>\n",
       "      <td>23835.000000</td>\n",
       "      <td>23834.000000</td>\n",
       "      <td>23809.000000</td>\n",
       "      <td>23835.000000</td>\n",
       "      <td>20302.000000</td>\n",
       "      <td>23835.000000</td>\n",
       "      <td>17543.000000</td>\n",
       "      <td>15084.000000</td>\n",
       "      <td>17543.000000</td>\n",
       "      <td>18775.000000</td>\n",
       "      <td>18663.000000</td>\n",
       "      <td>18663.000000</td>\n",
       "      <td>18663.000000</td>\n",
       "      <td>17528.000000</td>\n",
       "      <td>23834.000000</td>\n",
       "    </tr>\n",
       "    <tr>\n",
       "      <th>mean</th>\n",
       "      <td>454.053535</td>\n",
       "      <td>11.220390</td>\n",
       "      <td>380.595343</td>\n",
       "      <td>529.148676</td>\n",
       "      <td>2016.506650</td>\n",
       "      <td>3615.603298</td>\n",
       "      <td>3999.301525</td>\n",
       "      <td>3433.815649</td>\n",
       "      <td>47.224569</td>\n",
       "      <td>18.600445</td>\n",
       "      <td>408.581599</td>\n",
       "      <td>64.097149</td>\n",
       "      <td>362.561780</td>\n",
       "      <td>39.441715</td>\n",
       "      <td>23.288282</td>\n",
       "      <td>7.290977</td>\n",
       "      <td>2.151610</td>\n",
       "      <td>7.727071</td>\n",
       "      <td>10.441854</td>\n",
       "    </tr>\n",
       "    <tr>\n",
       "      <th>std</th>\n",
       "      <td>280.212598</td>\n",
       "      <td>75.848759</td>\n",
       "      <td>293.183152</td>\n",
       "      <td>224.075113</td>\n",
       "      <td>9.797342</td>\n",
       "      <td>8851.874588</td>\n",
       "      <td>9726.566289</td>\n",
       "      <td>8784.297343</td>\n",
       "      <td>21.297533</td>\n",
       "      <td>32.247161</td>\n",
       "      <td>1704.043324</td>\n",
       "      <td>175.487237</td>\n",
       "      <td>1109.899104</td>\n",
       "      <td>18.874681</td>\n",
       "      <td>25.344030</td>\n",
       "      <td>11.926588</td>\n",
       "      <td>5.414962</td>\n",
       "      <td>5.901951</td>\n",
       "      <td>1.348268</td>\n",
       "    </tr>\n",
       "    <tr>\n",
       "      <th>min</th>\n",
       "      <td>0.000000</td>\n",
       "      <td>0.000000</td>\n",
       "      <td>0.000000</td>\n",
       "      <td>0.000000</td>\n",
       "      <td>572.000000</td>\n",
       "      <td>-24.000000</td>\n",
       "      <td>-25.000000</td>\n",
       "      <td>-20.000000</td>\n",
       "      <td>0.000000</td>\n",
       "      <td>0.200000</td>\n",
       "      <td>0.000000</td>\n",
       "      <td>0.000000</td>\n",
       "      <td>-74.000000</td>\n",
       "      <td>3.400000</td>\n",
       "      <td>0.000000</td>\n",
       "      <td>-7.700000</td>\n",
       "      <td>-17.200000</td>\n",
       "      <td>-3.100000</td>\n",
       "      <td>8.114568</td>\n",
       "    </tr>\n",
       "    <tr>\n",
       "      <th>25%</th>\n",
       "      <td>210.000000</td>\n",
       "      <td>0.000000</td>\n",
       "      <td>131.000000</td>\n",
       "      <td>320.000000</td>\n",
       "      <td>2015.000000</td>\n",
       "      <td>213.000000</td>\n",
       "      <td>234.000000</td>\n",
       "      <td>200.000000</td>\n",
       "      <td>31.100000</td>\n",
       "      <td>7.100000</td>\n",
       "      <td>13.000000</td>\n",
       "      <td>6.000000</td>\n",
       "      <td>26.000000</td>\n",
       "      <td>25.000000</td>\n",
       "      <td>0.900000</td>\n",
       "      <td>0.100000</td>\n",
       "      <td>0.000000</td>\n",
       "      <td>3.900000</td>\n",
       "      <td>9.453965</td>\n",
       "    </tr>\n",
       "    <tr>\n",
       "      <th>50%</th>\n",
       "      <td>550.000000</td>\n",
       "      <td>0.000000</td>\n",
       "      <td>320.000000</td>\n",
       "      <td>580.000000</td>\n",
       "      <td>2017.000000</td>\n",
       "      <td>962.000000</td>\n",
       "      <td>1074.000000</td>\n",
       "      <td>862.000000</td>\n",
       "      <td>45.000000</td>\n",
       "      <td>8.000000</td>\n",
       "      <td>50.000000</td>\n",
       "      <td>20.000000</td>\n",
       "      <td>88.000000</td>\n",
       "      <td>37.400000</td>\n",
       "      <td>13.300000</td>\n",
       "      <td>2.000000</td>\n",
       "      <td>0.400000</td>\n",
       "      <td>6.800000</td>\n",
       "      <td>9.967369</td>\n",
       "    </tr>\n",
       "    <tr>\n",
       "      <th>75%</th>\n",
       "      <td>710.000000</td>\n",
       "      <td>4.000000</td>\n",
       "      <td>600.000000</td>\n",
       "      <td>740.000000</td>\n",
       "      <td>2019.000000</td>\n",
       "      <td>3474.750000</td>\n",
       "      <td>3883.000000</td>\n",
       "      <td>3119.500000</td>\n",
       "      <td>59.000000</td>\n",
       "      <td>11.900000</td>\n",
       "      <td>185.000000</td>\n",
       "      <td>63.000000</td>\n",
       "      <td>288.000000</td>\n",
       "      <td>48.600000</td>\n",
       "      <td>40.700000</td>\n",
       "      <td>9.600000</td>\n",
       "      <td>2.000000</td>\n",
       "      <td>10.000000</td>\n",
       "      <td>11.937373</td>\n",
       "    </tr>\n",
       "    <tr>\n",
       "      <th>max</th>\n",
       "      <td>860.000000</td>\n",
       "      <td>10392.000000</td>\n",
       "      <td>8700.000000</td>\n",
       "      <td>990.000000</td>\n",
       "      <td>2020.000000</td>\n",
       "      <td>134915.000000</td>\n",
       "      <td>144973.000000</td>\n",
       "      <td>138913.000000</td>\n",
       "      <td>120.500000</td>\n",
       "      <td>365.800000</td>\n",
       "      <td>33839.000000</td>\n",
       "      <td>6750.000000</td>\n",
       "      <td>29273.000000</td>\n",
       "      <td>102.400000</td>\n",
       "      <td>100.000000</td>\n",
       "      <td>99.900000</td>\n",
       "      <td>93.400000</td>\n",
       "      <td>115.900000</td>\n",
       "      <td>15.149853</td>\n",
       "    </tr>\n",
       "  </tbody>\n",
       "</table>\n",
       "</div>"
      ],
      "text/plain": [
       "        RoadManager     Kilometer         Meter  Municipality          Year  \\\n",
       "count  23835.000000  23835.000000  23835.000000  23835.000000  23835.000000   \n",
       "mean     454.053535     11.220390    380.595343    529.148676   2016.506650   \n",
       "std      280.212598     75.848759    293.183152    224.075113      9.797342   \n",
       "min        0.000000      0.000000      0.000000      0.000000    572.000000   \n",
       "25%      210.000000      0.000000    131.000000    320.000000   2015.000000   \n",
       "50%      550.000000      0.000000    320.000000    580.000000   2017.000000   \n",
       "75%      710.000000      4.000000    600.000000    740.000000   2019.000000   \n",
       "max      860.000000  10392.000000   8700.000000    990.000000   2020.000000   \n",
       "\n",
       "       AverageDailyVehicles  AverageWeekdayDailyVehicles  DailyJulyTraffic  \\\n",
       "count          23834.000000                 23809.000000      23835.000000   \n",
       "mean            3615.603298                  3999.301525       3433.815649   \n",
       "std             8851.874588                  9726.566289       8784.297343   \n",
       "min              -24.000000                   -25.000000        -20.000000   \n",
       "25%              213.000000                   234.000000        200.000000   \n",
       "50%              962.000000                  1074.000000        862.000000   \n",
       "75%             3474.750000                  3883.000000       3119.500000   \n",
       "max           134915.000000                144973.000000     138913.000000   \n",
       "\n",
       "       AverageSpeed   CountedDays      AE10High       AE10Low  \\\n",
       "count  20302.000000  23835.000000  17543.000000  15084.000000   \n",
       "mean      47.224569     18.600445    408.581599     64.097149   \n",
       "std       21.297533     32.247161   1704.043324    175.487237   \n",
       "min        0.000000      0.200000      0.000000      0.000000   \n",
       "25%       31.100000      7.100000     13.000000      6.000000   \n",
       "50%       45.000000      8.000000     50.000000     20.000000   \n",
       "75%       59.000000     11.900000    185.000000     63.000000   \n",
       "max      120.500000    365.800000  33839.000000   6750.000000   \n",
       "\n",
       "       AverageDailyTrucks    Quantile15  PctOverSpeedLimit  \\\n",
       "count        17543.000000  18775.000000       18663.000000   \n",
       "mean           362.561780     39.441715          23.288282   \n",
       "std           1109.899104     18.874681          25.344030   \n",
       "min            -74.000000      3.400000           0.000000   \n",
       "25%             26.000000     25.000000           0.900000   \n",
       "50%             88.000000     37.400000          13.300000   \n",
       "75%            288.000000     48.600000          40.700000   \n",
       "max          29273.000000    102.400000         100.000000   \n",
       "\n",
       "       PctOverSpeedLimit10  PctOverSpeedLimit20   PctOfTrucks     Longitude  \n",
       "count         18663.000000         18663.000000  17528.000000  23834.000000  \n",
       "mean              7.290977             2.151610      7.727071     10.441854  \n",
       "std              11.926588             5.414962      5.901951      1.348268  \n",
       "min              -7.700000           -17.200000     -3.100000      8.114568  \n",
       "25%               0.100000             0.000000      3.900000      9.453965  \n",
       "50%               2.000000             0.400000      6.800000      9.967369  \n",
       "75%               9.600000             2.000000     10.000000     11.937373  \n",
       "max              99.900000            93.400000    115.900000     15.149853  "
      ]
     },
     "execution_count": 243,
     "metadata": {},
     "output_type": "execute_result"
    }
   ],
   "source": [
    "traffic_data.describe()"
   ]
  },
  {
   "cell_type": "markdown",
   "metadata": {},
   "source": [
    "#### Count NaN-values."
   ]
  },
  {
   "cell_type": "code",
   "execution_count": 244,
   "metadata": {
    "scrolled": true
   },
   "outputs": [
    {
     "data": {
      "text/plain": [
       "FID                                0\n",
       "Dataowner                       3082\n",
       "RoadManager                     3082\n",
       "RoadId                          3082\n",
       "RoadPartId                      3082\n",
       "RoadName                        3082\n",
       "Kilometer                       3082\n",
       "Meter                           3082\n",
       "Location                        3093\n",
       "Municipality                    3082\n",
       "TypeOfVehicle                   3082\n",
       "Year                            3082\n",
       "AverageDailyVehicles            3083\n",
       "AverageWeekdayDailyVehicles     3108\n",
       "DailyJulyTraffic                3082\n",
       "Traffictype                     3082\n",
       "AverageSpeed                    6615\n",
       "CountedDays                     3082\n",
       "AE10High                        9374\n",
       "AE10Low                        11833\n",
       "AverageDailyTrucks              9374\n",
       "SpeedLimit                      5321\n",
       "Quantile15                      8142\n",
       "Quantile85                      8142\n",
       "PctOverSpeedLimit               8254\n",
       "PctOverSpeedLimit10             8254\n",
       "PctOverSpeedLimit20             8254\n",
       "PctOfTrucks                     9389\n",
       "Coordinates                     3083\n",
       "Longitude                       3083\n",
       "Latitude                        3083\n",
       "dtype: int64"
      ]
     },
     "execution_count": 244,
     "metadata": {},
     "output_type": "execute_result"
    }
   ],
   "source": [
    "traffic_data.isna().sum()"
   ]
  },
  {
   "cell_type": "markdown",
   "metadata": {},
   "source": [
    "Remove Municipality-rows that contain only NaN-values."
   ]
  },
  {
   "cell_type": "code",
   "execution_count": 245,
   "metadata": {
    "scrolled": true
   },
   "outputs": [
    {
     "data": {
      "text/plain": [
       "FID                               0\n",
       "Dataowner                         0\n",
       "RoadManager                       0\n",
       "RoadId                            0\n",
       "RoadPartId                        0\n",
       "RoadName                          0\n",
       "Kilometer                         0\n",
       "Meter                             0\n",
       "Location                         11\n",
       "Municipality                      0\n",
       "TypeOfVehicle                     0\n",
       "Year                              0\n",
       "AverageDailyVehicles              1\n",
       "AverageWeekdayDailyVehicles      26\n",
       "DailyJulyTraffic                  0\n",
       "Traffictype                       0\n",
       "AverageSpeed                   3533\n",
       "CountedDays                       0\n",
       "AE10High                       6292\n",
       "AE10Low                        8751\n",
       "AverageDailyTrucks             6292\n",
       "SpeedLimit                     2239\n",
       "Quantile15                     5060\n",
       "Quantile85                     5060\n",
       "PctOverSpeedLimit              5172\n",
       "PctOverSpeedLimit10            5172\n",
       "PctOverSpeedLimit20            5172\n",
       "PctOfTrucks                    6307\n",
       "Coordinates                       1\n",
       "Longitude                         1\n",
       "Latitude                          1\n",
       "dtype: int64"
      ]
     },
     "execution_count": 245,
     "metadata": {},
     "output_type": "execute_result"
    }
   ],
   "source": [
    "traffic_data = traffic_data.dropna(subset=['Municipality']).reset_index(drop=True)\n",
    "traffic_data.isna().sum()"
   ]
  },
  {
   "cell_type": "code",
   "execution_count": 246,
   "metadata": {},
   "outputs": [
    {
     "data": {
      "text/plain": [
       "23835"
      ]
     },
     "execution_count": 246,
     "metadata": {},
     "output_type": "execute_result"
    }
   ],
   "source": [
    "len(traffic_data)"
   ]
  },
  {
   "cell_type": "markdown",
   "metadata": {},
   "source": [
    "Lots of rows had shared NaNs, as there is an overall NaN-reduction when only selecting on the Muncipality column. However, there are still NaN values present in the data. We choose to remove the AE10-variables as these are not interesting for this project. Additionally the rows containing nan-values for the remaining variables are removed from the data set."
   ]
  },
  {
   "cell_type": "code",
   "execution_count": null,
   "metadata": {
    "scrolled": true
   },
   "outputs": [],
   "source": [
    "traffic_data = traffic_data.drop(columns=[\"AE10Low\", \"AE10High\"])\n",
    "traffic_data = traffic_data.dropna().reset_index(drop=True)"
   ]
  },
  {
   "cell_type": "code",
   "execution_count": null,
   "metadata": {},
   "outputs": [
    {
     "data": {
      "text/plain": [
       "16220"
      ]
     },
     "execution_count": 248,
     "metadata": {},
     "output_type": "execute_result"
    }
   ],
   "source": [
    "len(traffic_data)"
   ]
  },
  {
   "cell_type": "markdown",
   "metadata": {},
   "source": [
    "#### Kommune variable\n",
    "There should be max 98 Danish Municipalities. However, there are 102.\n",
    "\n",
    "(http://www.maerkdinbygning.dk/materiale/files/materiale-konsulenter/energimarkning/1507-nyeoggamlekommunenumre.pdf)"
   ]
  },
  {
   "cell_type": "code",
   "execution_count": null,
   "metadata": {},
   "outputs": [
    {
     "data": {
      "text/plain": [
       "99"
      ]
     },
     "execution_count": 249,
     "metadata": {},
     "output_type": "execute_result"
    }
   ],
   "source": [
    "#Check the KOMMUNE variable\n",
    "traffic_data.Municipality.unique().size"
   ]
  },
  {
   "cell_type": "code",
   "execution_count": null,
   "metadata": {
    "scrolled": true
   },
   "outputs": [
    {
     "data": {
      "text/plain": [
       "{101: 'København',\n",
       " 147: 'Frederiksberg',\n",
       " 151: 'Ballerup',\n",
       " 153: 'Brøndby',\n",
       " 155: 'Dragør',\n",
       " 157: 'Gentofte',\n",
       " 159: 'Gladsaxe',\n",
       " 161: 'Glostrup',\n",
       " 163: 'Herlev',\n",
       " 165: 'Albertslund',\n",
       " 167: 'Hvidovre',\n",
       " 169: 'Høje-Taastrup',\n",
       " 173: 'Lyngby-Taarbæk',\n",
       " 175: 'Rødovre',\n",
       " 183: 'Ishøj',\n",
       " 185: 'Tårnby',\n",
       " 187: 'Vallensbæk',\n",
       " 190: 'Furesø',\n",
       " 201: 'Allerød',\n",
       " 210: 'Fredensborg',\n",
       " 217: 'Helsingør',\n",
       " 219: 'Hillerød',\n",
       " 223: 'Hørsholm',\n",
       " 230: 'Rudersdal',\n",
       " 240: 'Egedal',\n",
       " 250: 'Frederikssund',\n",
       " 253: 'Greve',\n",
       " 259: 'Køge',\n",
       " 260: 'Halsnæs',\n",
       " 265: 'Roskilde',\n",
       " 269: 'Solrød',\n",
       " 270: 'Gribskov',\n",
       " 306: 'Odsherred',\n",
       " 316: 'Holbæk',\n",
       " 320: 'Faxe',\n",
       " 326: 'Kalundborg',\n",
       " 329: 'Ringsted',\n",
       " 330: 'Slagelse',\n",
       " 336: 'Stevns',\n",
       " 340: 'Sorø',\n",
       " 350: 'Lejre',\n",
       " 360: 'Lolland',\n",
       " 370: 'Næstved',\n",
       " 376: 'Guldborgsund',\n",
       " 390: 'Vordingborg',\n",
       " 400: 'Bornholm',\n",
       " 410: 'Middelfart',\n",
       " 420: 'Assens',\n",
       " 430: 'Faaborg-Midtfyn',\n",
       " 440: 'Kerteminde',\n",
       " 450: 'Nyborg',\n",
       " 461: 'Odense',\n",
       " 479: 'Svendborg',\n",
       " 480: 'Nordfyns',\n",
       " 482: 'Langeland',\n",
       " 492: 'Ærø',\n",
       " 510: 'Haderslev',\n",
       " 530: 'Billund',\n",
       " 540: 'Sønderborg',\n",
       " 550: 'Tønder',\n",
       " 561: 'Esbjerg',\n",
       " 563: 'Fanø',\n",
       " 573: 'Varde',\n",
       " 575: 'Vejen',\n",
       " 580: 'Aabenraa',\n",
       " 607: 'Fredericia',\n",
       " 615: 'Horsens',\n",
       " 621: 'Kolding',\n",
       " 630: 'Vejle',\n",
       " 657: 'Herning',\n",
       " 661: 'Holstebro',\n",
       " 665: 'Lemvig',\n",
       " 671: 'Struer',\n",
       " 706: 'Syddjurs',\n",
       " 707: 'Norddjurs',\n",
       " 710: 'Favrskov',\n",
       " 727: 'Odder',\n",
       " 730: 'Randers',\n",
       " 740: 'Silkeborg',\n",
       " 741: 'Samsø',\n",
       " 746: 'Skanderborg',\n",
       " 751: 'Aarhus',\n",
       " 756: 'Ikast-Brande',\n",
       " 760: 'Ringkøbing-Skjern',\n",
       " 766: 'Hedensted',\n",
       " 773: 'Morsø',\n",
       " 779: 'Skive',\n",
       " 787: 'Thisted',\n",
       " 791: 'Viborg',\n",
       " 810: 'Brønderslev',\n",
       " 813: 'Frederikshavn',\n",
       " 820: 'Vesthimmerlands',\n",
       " 825: 'Læsø',\n",
       " 840: 'Rebild',\n",
       " 846: 'Mariagerfjord',\n",
       " 849: 'Jammerbugt',\n",
       " 851: 'Aalborg',\n",
       " 860: 'Hjørring'}"
      ]
     },
     "execution_count": 250,
     "metadata": {},
     "output_type": "execute_result"
    }
   ],
   "source": [
    "kommune_code = [101,147,151,153,155,157,159,161,163,165,167,169,173,175,183,185,187,190,201,210,217,219,223,230,240,250,253,259,260,265,269,270,306,316,320,326,329,330,336,340,350,360,370,376,390,400,410,420,430,440,450,461,479,480,482,492,510,530,540,550,561,563,573,575,580,607,615,621,630,657,661,665,671,706,707,710,727,730,740,741,746,751,756,760,766,773,779,787,791,810,813,820,825,840,846,849,851,860]\n",
    "kommune_name = [\"København\",\"Frederiksberg\",\"Ballerup\",\"Brøndby\",\"Dragør\",\"Gentofte\",\"Gladsaxe\",\"Glostrup\",\"Herlev\",\"Albertslund\",\"Hvidovre\",\"Høje-Taastrup\",\"Lyngby-Taarbæk\",\"Rødovre\",\"Ishøj\",\"Tårnby\",\"Vallensbæk\",\"Furesø\",\"Allerød\",\"Fredensborg\",\"Helsingør\",\"Hillerød\",\"Hørsholm\",\"Rudersdal\",\"Egedal\",\"Frederikssund\",\"Greve\",\"Køge\",\"Halsnæs\",\"Roskilde\",\"Solrød\",\"Gribskov\",\"Odsherred\",\"Holbæk\",\"Faxe\",\"Kalundborg\",\"Ringsted\",\"Slagelse\",\"Stevns\",\"Sorø\",\"Lejre\",\"Lolland\",\"Næstved\",\"Guldborgsund\",\"Vordingborg\",\"Bornholm\",\"Middelfart\",\"Assens\",\"Faaborg-Midtfyn\",\"Kerteminde\",\"Nyborg\",\"Odense\",\"Svendborg\",\"Nordfyns\",\"Langeland\",\"Ærø\",\"Haderslev\",\"Billund\",\"Sønderborg\",\"Tønder\",\"Esbjerg\",\"Fanø\",\"Varde\",\"Vejen\",\"Aabenraa\",\"Fredericia\",\"Horsens\",\"Kolding\",\"Vejle\",\"Herning\",\"Holstebro\",\"Lemvig\",\"Struer\",\"Syddjurs\",\"Norddjurs\",\"Favrskov\",\"Odder\",\"Randers\",\"Silkeborg\",\"Samsø\",\"Skanderborg\",\"Aarhus\",\"Ikast-Brande\",\"Ringkøbing-Skjern\",\"Hedensted\",\"Morsø\",\"Skive\",\"Thisted\",\"Viborg\",\"Brønderslev\",\"Frederikshavn\",\"Vesthimmerlands\",\"Læsø\",\"Rebild\",\"Mariagerfjord\",\"Jammerbugt\",\"Aalborg\",\"Hjørring\"]\n",
    "\n",
    "kommune_dictionary = dict(zip(kommune_name, kommune_code))\n",
    "inverse_dictionary = dict(zip(kommune_code, kommune_name))\n",
    "\n",
    "inverse_dictionary"
   ]
  },
  {
   "cell_type": "code",
   "execution_count": null,
   "metadata": {},
   "outputs": [],
   "source": [
    "#Remove observations with unexsting kommune code\n",
    "traffic_data = traffic_data[traffic_data.Municipality.isin(kommune_dictionary.values())]"
   ]
  },
  {
   "cell_type": "code",
   "execution_count": null,
   "metadata": {},
   "outputs": [
    {
     "data": {
      "text/plain": [
       "92"
      ]
     },
     "execution_count": 252,
     "metadata": {},
     "output_type": "execute_result"
    }
   ],
   "source": [
    "traffic_data.Municipality.unique().size"
   ]
  },
  {
   "cell_type": "code",
   "execution_count": null,
   "metadata": {},
   "outputs": [
    {
     "data": {
      "text/plain": [
       "array([101., 147., 151., 153., 157., 159., 161., 163., 165., 167., 169.,\n",
       "       173., 175., 183., 185., 187., 190., 201., 210., 217., 219., 230.,\n",
       "       240., 250., 253., 259., 260., 265., 269., 270., 306., 316., 320.,\n",
       "       326., 329., 330., 336., 340., 350., 360., 370., 376., 390., 400.,\n",
       "       410., 420., 430., 440., 450., 461., 479., 480., 482., 510., 530.,\n",
       "       540., 550., 561., 573., 575., 580., 607., 615., 621., 630., 657.,\n",
       "       661., 665., 671., 706., 707., 710., 727., 730., 740., 746., 751.,\n",
       "       756., 760., 766., 773., 779., 787., 791., 810., 813., 820., 840.,\n",
       "       846., 849., 851., 860.])"
      ]
     },
     "execution_count": 253,
     "metadata": {},
     "output_type": "execute_result"
    }
   ],
   "source": [
    "np.sort(traffic_data.Municipality.unique())"
   ]
  },
  {
   "cell_type": "code",
   "execution_count": null,
   "metadata": {},
   "outputs": [],
   "source": [
    "#nandata = traffic_data[pd.isnull(traffic_data).any(axis=1)]\n",
    "#traffic_data['MunicipalityName'] = traffic_data.Municipality.map(inverse_dictionary)#\n",
    "#\n",
    "#plt.figure(figsize=(20,7))\n",
    "#plt.title(\"NaN Observations per Kommune\")\n",
    "#df = nandata.groupby('MunicipalityName').FID.count().sort_values(ascending = False)\n",
    "#ax = sns.barplot(df.keys(), df.values, order=df.keys(), palette=\"GnBu_d\")\n",
    "#plt.setp(ax.get_xticklabels(), rotation=90);"
   ]
  },
  {
   "cell_type": "markdown",
   "metadata": {},
   "source": [
    "# Summary Statistics and distributions for variables"
   ]
  },
  {
   "cell_type": "markdown",
   "metadata": {},
   "source": [
    "### Summary statistics and data cleaning"
   ]
  },
  {
   "cell_type": "code",
   "execution_count": null,
   "metadata": {
    "scrolled": true
   },
   "outputs": [
    {
     "data": {
      "text/html": [
       "<div>\n",
       "<style scoped>\n",
       "    .dataframe tbody tr th:only-of-type {\n",
       "        vertical-align: middle;\n",
       "    }\n",
       "\n",
       "    .dataframe tbody tr th {\n",
       "        vertical-align: top;\n",
       "    }\n",
       "\n",
       "    .dataframe thead th {\n",
       "        text-align: right;\n",
       "    }\n",
       "</style>\n",
       "<table border=\"1\" class=\"dataframe\">\n",
       "  <thead>\n",
       "    <tr style=\"text-align: right;\">\n",
       "      <th></th>\n",
       "      <th>RoadManager</th>\n",
       "      <th>Kilometer</th>\n",
       "      <th>Meter</th>\n",
       "      <th>Municipality</th>\n",
       "      <th>Year</th>\n",
       "      <th>AverageDailyVehicles</th>\n",
       "      <th>AverageWeekdayDailyVehicles</th>\n",
       "      <th>DailyJulyTraffic</th>\n",
       "      <th>AverageSpeed</th>\n",
       "      <th>CountedDays</th>\n",
       "      <th>AverageDailyTrucks</th>\n",
       "      <th>Quantile15</th>\n",
       "      <th>PctOverSpeedLimit</th>\n",
       "      <th>PctOverSpeedLimit10</th>\n",
       "      <th>PctOverSpeedLimit20</th>\n",
       "      <th>PctOfTrucks</th>\n",
       "      <th>Longitude</th>\n",
       "    </tr>\n",
       "  </thead>\n",
       "  <tbody>\n",
       "    <tr>\n",
       "      <th>count</th>\n",
       "      <td>16156.000000</td>\n",
       "      <td>16156.000000</td>\n",
       "      <td>16156.000000</td>\n",
       "      <td>16156.000000</td>\n",
       "      <td>16156.000000</td>\n",
       "      <td>16156.000000</td>\n",
       "      <td>16156.000000</td>\n",
       "      <td>16156.000000</td>\n",
       "      <td>16156.000000</td>\n",
       "      <td>16156.000000</td>\n",
       "      <td>16156.000000</td>\n",
       "      <td>16156.000000</td>\n",
       "      <td>16156.000000</td>\n",
       "      <td>16156.000000</td>\n",
       "      <td>16156.000000</td>\n",
       "      <td>16156.000000</td>\n",
       "      <td>16156.000000</td>\n",
       "    </tr>\n",
       "    <tr>\n",
       "      <th>mean</th>\n",
       "      <td>455.022654</td>\n",
       "      <td>9.966823</td>\n",
       "      <td>381.710201</td>\n",
       "      <td>525.229450</td>\n",
       "      <td>2016.749195</td>\n",
       "      <td>4073.601820</td>\n",
       "      <td>4503.615251</td>\n",
       "      <td>3858.124350</td>\n",
       "      <td>51.572097</td>\n",
       "      <td>17.704778</td>\n",
       "      <td>361.237435</td>\n",
       "      <td>41.476628</td>\n",
       "      <td>25.792282</td>\n",
       "      <td>8.003138</td>\n",
       "      <td>2.316118</td>\n",
       "      <td>7.732650</td>\n",
       "      <td>10.457438</td>\n",
       "    </tr>\n",
       "    <tr>\n",
       "      <th>std</th>\n",
       "      <td>276.395103</td>\n",
       "      <td>32.668194</td>\n",
       "      <td>282.581620</td>\n",
       "      <td>222.409414</td>\n",
       "      <td>2.812557</td>\n",
       "      <td>9220.254681</td>\n",
       "      <td>10112.419144</td>\n",
       "      <td>9221.059651</td>\n",
       "      <td>19.924356</td>\n",
       "      <td>27.805462</td>\n",
       "      <td>1113.514025</td>\n",
       "      <td>18.240351</td>\n",
       "      <td>25.473472</td>\n",
       "      <td>12.230383</td>\n",
       "      <td>5.560386</td>\n",
       "      <td>5.854151</td>\n",
       "      <td>1.370429</td>\n",
       "    </tr>\n",
       "    <tr>\n",
       "      <th>min</th>\n",
       "      <td>0.000000</td>\n",
       "      <td>0.000000</td>\n",
       "      <td>0.000000</td>\n",
       "      <td>101.000000</td>\n",
       "      <td>2000.000000</td>\n",
       "      <td>0.000000</td>\n",
       "      <td>0.000000</td>\n",
       "      <td>0.000000</td>\n",
       "      <td>8.200000</td>\n",
       "      <td>1.300000</td>\n",
       "      <td>-74.000000</td>\n",
       "      <td>6.600000</td>\n",
       "      <td>0.000000</td>\n",
       "      <td>-7.700000</td>\n",
       "      <td>-17.200000</td>\n",
       "      <td>-3.100000</td>\n",
       "      <td>8.114568</td>\n",
       "    </tr>\n",
       "    <tr>\n",
       "      <th>25%</th>\n",
       "      <td>217.000000</td>\n",
       "      <td>0.000000</td>\n",
       "      <td>140.000000</td>\n",
       "      <td>320.000000</td>\n",
       "      <td>2015.000000</td>\n",
       "      <td>494.000000</td>\n",
       "      <td>545.750000</td>\n",
       "      <td>431.000000</td>\n",
       "      <td>37.600000</td>\n",
       "      <td>7.000000</td>\n",
       "      <td>27.000000</td>\n",
       "      <td>27.900000</td>\n",
       "      <td>2.500000</td>\n",
       "      <td>0.300000</td>\n",
       "      <td>0.100000</td>\n",
       "      <td>3.900000</td>\n",
       "      <td>9.438562</td>\n",
       "    </tr>\n",
       "    <tr>\n",
       "      <th>50%</th>\n",
       "      <td>550.000000</td>\n",
       "      <td>0.000000</td>\n",
       "      <td>319.000000</td>\n",
       "      <td>580.000000</td>\n",
       "      <td>2017.000000</td>\n",
       "      <td>1433.000000</td>\n",
       "      <td>1591.000000</td>\n",
       "      <td>1269.000000</td>\n",
       "      <td>48.300000</td>\n",
       "      <td>7.900000</td>\n",
       "      <td>88.000000</td>\n",
       "      <td>39.500000</td>\n",
       "      <td>18.000000</td>\n",
       "      <td>2.800000</td>\n",
       "      <td>0.500000</td>\n",
       "      <td>6.800000</td>\n",
       "      <td>9.959723</td>\n",
       "    </tr>\n",
       "    <tr>\n",
       "      <th>75%</th>\n",
       "      <td>710.000000</td>\n",
       "      <td>3.000000</td>\n",
       "      <td>600.000000</td>\n",
       "      <td>727.000000</td>\n",
       "      <td>2019.000000</td>\n",
       "      <td>4100.750000</td>\n",
       "      <td>4554.250000</td>\n",
       "      <td>3685.750000</td>\n",
       "      <td>62.400000</td>\n",
       "      <td>11.000000</td>\n",
       "      <td>285.000000</td>\n",
       "      <td>50.500000</td>\n",
       "      <td>44.100000</td>\n",
       "      <td>10.800000</td>\n",
       "      <td>2.200000</td>\n",
       "      <td>10.000000</td>\n",
       "      <td>11.953815</td>\n",
       "    </tr>\n",
       "    <tr>\n",
       "      <th>max</th>\n",
       "      <td>860.000000</td>\n",
       "      <td>342.000000</td>\n",
       "      <td>3300.000000</td>\n",
       "      <td>860.000000</td>\n",
       "      <td>2020.000000</td>\n",
       "      <td>134915.000000</td>\n",
       "      <td>144973.000000</td>\n",
       "      <td>138913.000000</td>\n",
       "      <td>120.500000</td>\n",
       "      <td>365.800000</td>\n",
       "      <td>29273.000000</td>\n",
       "      <td>102.400000</td>\n",
       "      <td>99.500000</td>\n",
       "      <td>98.200000</td>\n",
       "      <td>93.400000</td>\n",
       "      <td>115.900000</td>\n",
       "      <td>15.149853</td>\n",
       "    </tr>\n",
       "  </tbody>\n",
       "</table>\n",
       "</div>"
      ],
      "text/plain": [
       "        RoadManager     Kilometer         Meter  Municipality          Year  \\\n",
       "count  16156.000000  16156.000000  16156.000000  16156.000000  16156.000000   \n",
       "mean     455.022654      9.966823    381.710201    525.229450   2016.749195   \n",
       "std      276.395103     32.668194    282.581620    222.409414      2.812557   \n",
       "min        0.000000      0.000000      0.000000    101.000000   2000.000000   \n",
       "25%      217.000000      0.000000    140.000000    320.000000   2015.000000   \n",
       "50%      550.000000      0.000000    319.000000    580.000000   2017.000000   \n",
       "75%      710.000000      3.000000    600.000000    727.000000   2019.000000   \n",
       "max      860.000000    342.000000   3300.000000    860.000000   2020.000000   \n",
       "\n",
       "       AverageDailyVehicles  AverageWeekdayDailyVehicles  DailyJulyTraffic  \\\n",
       "count          16156.000000                 16156.000000      16156.000000   \n",
       "mean            4073.601820                  4503.615251       3858.124350   \n",
       "std             9220.254681                 10112.419144       9221.059651   \n",
       "min                0.000000                     0.000000          0.000000   \n",
       "25%              494.000000                   545.750000        431.000000   \n",
       "50%             1433.000000                  1591.000000       1269.000000   \n",
       "75%             4100.750000                  4554.250000       3685.750000   \n",
       "max           134915.000000                144973.000000     138913.000000   \n",
       "\n",
       "       AverageSpeed   CountedDays  AverageDailyTrucks    Quantile15  \\\n",
       "count  16156.000000  16156.000000        16156.000000  16156.000000   \n",
       "mean      51.572097     17.704778          361.237435     41.476628   \n",
       "std       19.924356     27.805462         1113.514025     18.240351   \n",
       "min        8.200000      1.300000          -74.000000      6.600000   \n",
       "25%       37.600000      7.000000           27.000000     27.900000   \n",
       "50%       48.300000      7.900000           88.000000     39.500000   \n",
       "75%       62.400000     11.000000          285.000000     50.500000   \n",
       "max      120.500000    365.800000        29273.000000    102.400000   \n",
       "\n",
       "       PctOverSpeedLimit  PctOverSpeedLimit10  PctOverSpeedLimit20  \\\n",
       "count       16156.000000         16156.000000         16156.000000   \n",
       "mean           25.792282             8.003138             2.316118   \n",
       "std            25.473472            12.230383             5.560386   \n",
       "min             0.000000            -7.700000           -17.200000   \n",
       "25%             2.500000             0.300000             0.100000   \n",
       "50%            18.000000             2.800000             0.500000   \n",
       "75%            44.100000            10.800000             2.200000   \n",
       "max            99.500000            98.200000            93.400000   \n",
       "\n",
       "        PctOfTrucks     Longitude  \n",
       "count  16156.000000  16156.000000  \n",
       "mean       7.732650     10.457438  \n",
       "std        5.854151      1.370429  \n",
       "min       -3.100000      8.114568  \n",
       "25%        3.900000      9.438562  \n",
       "50%        6.800000      9.959723  \n",
       "75%       10.000000     11.953815  \n",
       "max      115.900000     15.149853  "
      ]
     },
     "execution_count": 255,
     "metadata": {},
     "output_type": "execute_result"
    }
   ],
   "source": [
    "traffic_data.describe()"
   ]
  },
  {
   "cell_type": "markdown",
   "metadata": {},
   "source": [
    "Below are some key takeaways from the summary statistics, which may be cause for furhter investigation.\n",
    "* **Kilometer:** The maximum distance is 645, indicating that there is a measuring station 645 kilometers from the start of the road. This number is very high as roads in Denmark are not this long.\n",
    "* **AverageDailyVehicles:** The minimum-value observation for the Average Daily Vehicles is negative, which should not be possible. The same is the case for **AverageWeekdayDailyVehicles**, **DailyJulyTraffic**, **PctOverSpeedLimit**, **PctOverSpeedLimit10**, **PctOverSpeedLimit20**, **PctOfTrucks**.\n",
    "* **PctOfTrucks:** The maximum value for the Percantage of trucks on a road exceeds 100 % which should not be possible.\n",
    "* **AverageWeekdayDailyVehicles:** Some maximum values for the daily number of vehicles are very high, but when compared to statistics from https://www.vejdirektoratet.dk/side/trafikkens-udvikling-i-tal, it is in accordance with the most populated roads in Denmark (Køge Bugt Motorvejen, Motorring 3)\n",
    "\n",
    "Let's have a deeper look into some of these suspicious measurements. Let's look at the 645 km long road."
   ]
  },
  {
   "cell_type": "code",
   "execution_count": null,
   "metadata": {
    "scrolled": true
   },
   "outputs": [
    {
     "data": {
      "text/html": [
       "<div>\n",
       "<style scoped>\n",
       "    .dataframe tbody tr th:only-of-type {\n",
       "        vertical-align: middle;\n",
       "    }\n",
       "\n",
       "    .dataframe tbody tr th {\n",
       "        vertical-align: top;\n",
       "    }\n",
       "\n",
       "    .dataframe thead th {\n",
       "        text-align: right;\n",
       "    }\n",
       "</style>\n",
       "<table border=\"1\" class=\"dataframe\">\n",
       "  <thead>\n",
       "    <tr style=\"text-align: right;\">\n",
       "      <th></th>\n",
       "      <th>FID</th>\n",
       "      <th>Dataowner</th>\n",
       "      <th>RoadManager</th>\n",
       "      <th>RoadId</th>\n",
       "      <th>RoadPartId</th>\n",
       "      <th>RoadName</th>\n",
       "      <th>Kilometer</th>\n",
       "      <th>Meter</th>\n",
       "      <th>Location</th>\n",
       "      <th>Municipality</th>\n",
       "      <th>...</th>\n",
       "      <th>SpeedLimit</th>\n",
       "      <th>Quantile15</th>\n",
       "      <th>Quantile85</th>\n",
       "      <th>PctOverSpeedLimit</th>\n",
       "      <th>PctOverSpeedLimit10</th>\n",
       "      <th>PctOverSpeedLimit20</th>\n",
       "      <th>PctOfTrucks</th>\n",
       "      <th>Coordinates</th>\n",
       "      <th>Longitude</th>\n",
       "      <th>Latitude</th>\n",
       "    </tr>\n",
       "  </thead>\n",
       "  <tbody>\n",
       "    <tr>\n",
       "      <th>15339</th>\n",
       "      <td>OPEN_DATA_NOEGLETAL_VIEW.fid--1778853a_17153cf...</td>\n",
       "      <td>0</td>\n",
       "      <td>0.0</td>\n",
       "      <td>80</td>\n",
       "      <td>12</td>\n",
       "      <td>Frederikshavnmotorvejen</td>\n",
       "      <td>342.0</td>\n",
       "      <td>270.0</td>\n",
       "      <td>Sideanlæg: Øksenhede Vest</td>\n",
       "      <td>813.0</td>\n",
       "      <td>...</td>\n",
       "      <td>130.0</td>\n",
       "      <td>42.0</td>\n",
       "      <td>84.4</td>\n",
       "      <td>0.6</td>\n",
       "      <td>-2.5</td>\n",
       "      <td>-5.7</td>\n",
       "      <td>10.3</td>\n",
       "      <td>POINT (587721.0000033564 6357194.99974163)</td>\n",
       "      <td>10.457762</td>\n",
       "      <td>57.34916415365037;</td>\n",
       "    </tr>\n",
       "  </tbody>\n",
       "</table>\n",
       "<p>1 rows × 29 columns</p>\n",
       "</div>"
      ],
      "text/plain": [
       "                                                     FID Dataowner  \\\n",
       "15339  OPEN_DATA_NOEGLETAL_VIEW.fid--1778853a_17153cf...         0   \n",
       "\n",
       "       RoadManager RoadId RoadPartId                 RoadName  Kilometer  \\\n",
       "15339          0.0     80         12  Frederikshavnmotorvejen      342.0   \n",
       "\n",
       "       Meter                   Location  Municipality         ...          \\\n",
       "15339  270.0  Sideanlæg: Øksenhede Vest         813.0         ...           \n",
       "\n",
       "      SpeedLimit  Quantile15  Quantile85  PctOverSpeedLimit  \\\n",
       "15339      130.0        42.0        84.4                0.6   \n",
       "\n",
       "       PctOverSpeedLimit10 PctOverSpeedLimit20  PctOfTrucks  \\\n",
       "15339                 -2.5                -5.7         10.3   \n",
       "\n",
       "                                      Coordinates  Longitude  \\\n",
       "15339  POINT (587721.0000033564 6357194.99974163)  10.457762   \n",
       "\n",
       "                 Latitude  \n",
       "15339  57.34916415365037;  \n",
       "\n",
       "[1 rows x 29 columns]"
      ]
     },
     "execution_count": 256,
     "metadata": {},
     "output_type": "execute_result"
    }
   ],
   "source": [
    "traffic_data[traffic_data[\"Kilometer\"] == traffic_data[\"Kilometer\"].max()]"
   ]
  },
  {
   "cell_type": "markdown",
   "metadata": {},
   "source": [
    "A quick google search indicates that Frederikshavnmotorvejen is indeed not 645 kilometers. The longest road in Denmark is 310 kilometers, and it is the E45 high-speed road. (Ref: https://da.wikipedia.org/wiki/Motorveje_i_Danmark). Let's see how many roads exceed this number in the data set."
   ]
  },
  {
   "cell_type": "code",
   "execution_count": null,
   "metadata": {},
   "outputs": [
    {
     "name": "stdout",
     "output_type": "stream",
     "text": [
      "Amount of measurements stations placed more than 310 kilometers away from start of road: 14\n"
     ]
    }
   ],
   "source": [
    "print(\"Amount of measurements stations placed more than 310 kilometers away from start of road: {}\".format(sum(traffic_data[\"Kilometer\"] > 310)))"
   ]
  },
  {
   "cell_type": "markdown",
   "metadata": {},
   "source": [
    "It is hard to say if these roads are faulty measurements as the documentation for the Kilometer variable reads : The mileage indication - the counting point has a so-called mileage (stationing), which is _typically_ the distance from the start of the road to the counting point; The mileage is then the mileage part of the mileage.\n",
    "We therefore choose not to keep observations with high values for Kilometer in further analysis.\n",
    "\n",
    "Below are counts for negative observations for columns which shouldn't contain negative values. The counts for observations exceeing 100 % in **PctOfTrucks** are also shown."
   ]
  },
  {
   "cell_type": "code",
   "execution_count": null,
   "metadata": {},
   "outputs": [
    {
     "name": "stdout",
     "output_type": "stream",
     "text": [
      "Amount of negative observations in AverageDailyVehicles columns: 0\n",
      "Amount of negative observations in AverageWeekdayDailyVehicles columns: 0\n",
      "Amount of negative observations in DailyJulyTraffic columns: 0\n",
      "Amount of negative observations in AverageDailyTrucks columns: 1\n",
      "Amount of negative observations in PctOverSpeedLimit10 columns: 22\n",
      "Amount of negative observations in PctOverSpeedLimit20 columns: 32\n",
      "Amount of negative observations in PctOfTrucks columns: 1\n",
      "Amount of observations exceeding 100 % PctOfTrucks columns: 1\n"
     ]
    }
   ],
   "source": [
    "print(\"Amount of negative observations in AverageDailyVehicles columns: {}\".format(sum(traffic_data[\"AverageDailyVehicles\"] < 0)))\n",
    "print(\"Amount of negative observations in AverageWeekdayDailyVehicles columns: {}\".format(sum(traffic_data[\"AverageWeekdayDailyVehicles\"] < 0)))\n",
    "print(\"Amount of negative observations in DailyJulyTraffic columns: {}\".format(sum(traffic_data[\"DailyJulyTraffic\"] < 0)))\n",
    "print(\"Amount of negative observations in AverageDailyTrucks columns: {}\".format(sum(traffic_data[\"AverageDailyTrucks\"] < 0)))\n",
    "print(\"Amount of negative observations in PctOverSpeedLimit10 columns: {}\".format(sum(traffic_data[\"PctOverSpeedLimit10\"] < 0)))\n",
    "print(\"Amount of negative observations in PctOverSpeedLimit20 columns: {}\".format(sum(traffic_data[\"PctOverSpeedLimit20\"] < 0)))\n",
    "print(\"Amount of negative observations in PctOfTrucks columns: {}\".format(sum(traffic_data[\"PctOfTrucks\"] < 0)))\n",
    "print(\"Amount of observations exceeding 100 % PctOfTrucks columns: {}\".format(sum(traffic_data[\"PctOfTrucks\"] > 100)))"
   ]
  },
  {
   "cell_type": "markdown",
   "metadata": {},
   "source": [
    "The majority of observations are positive, with only a few negative ones. The observations are replaced with NaN values."
   ]
  },
  {
   "cell_type": "code",
   "execution_count": null,
   "metadata": {},
   "outputs": [],
   "source": [
    "num = traffic_data._get_numeric_data()\n",
    "num\n",
    "num[num < 0] = np.nan\n",
    "if traffic_data.PctOfTrucks.max() > 100:\n",
    "    traffic_data.PctOfTrucks.replace([traffic_data.PctOfTrucks.max()], np.nan, inplace = True)"
   ]
  },
  {
   "cell_type": "markdown",
   "metadata": {},
   "source": [
    "### Variable distributions"
   ]
  },
  {
   "cell_type": "code",
   "execution_count": null,
   "metadata": {
    "scrolled": true
   },
   "outputs": [
    {
     "data": {
      "image/png": "[encoded data removed]",
      "text/plain": [
       "<Figure size 936x1008 with 14 Axes>"
      ]
     },
     "metadata": {
      "needs_background": "light"
     },
     "output_type": "display_data"
    }
   ],
   "source": [
    "cols_to_plot = ['Kilometer', 'AverageDailyVehicles',\n",
    "       'AverageWeekdayDailyVehicles', 'DailyJulyTraffic',\n",
    "       'AverageSpeed', 'CountedDays',\n",
    "       'AverageDailyTrucks', 'SpeedLimit', 'Quantile15', 'Quantile85',\n",
    "       'PctOverSpeedLimit', 'PctOverSpeedLimit10', 'PctOverSpeedLimit20',\n",
    "       'PctOfTrucks']\n",
    "\n",
    "fig = plt.figure(figsize=(13,14))\n",
    "for i in range(len(cols_to_plot)):\n",
    "    fig.add_subplot(7, 2, i+1)\n",
    "    plt.hist(pd.to_numeric(traffic_data[cols_to_plot[i]]), bins = 50)\n",
    "    plt.title(cols_to_plot[i])\n",
    "    plt.tight_layout()\n",
    "    \n",
    "plt.show()"
   ]
  },
  {
   "cell_type": "code",
   "execution_count": null,
   "metadata": {
    "scrolled": true
   },
   "outputs": [],
   "source": [
    "f, axes = plt.subplots(7, 2, figsize=(15, 20), sharex=False)\n",
    "for i in range(len(cols_to_plot)):\n",
    "    sns.distplot(pd.to_numeric(traffic_data[cols_to_plot[i]].dropna()), ax=axes[i // 2, i % 2])\n",
    "    f.tight_layout()"
   ]
  },
  {
   "cell_type": "markdown",
   "metadata": {},
   "source": [
    "Many of the variables have tendencies to have long tails to the right, which indicate that there are some few high valued observations for many of them. Despite these being outliers compared to the rest of the data, the values are still seen as realistic, and therefore kept in the data set for further analysis."
   ]
  },
  {
   "cell_type": "markdown",
   "metadata": {},
   "source": [
    "# Data Exploration"
   ]
  },
  {
   "cell_type": "code",
   "execution_count": null,
   "metadata": {},
   "outputs": [],
   "source": [
    "traffic_data['MunicipalityName'] = traffic_data.Municipality.map(inverse_dictionary)"
   ]
  },
  {
   "cell_type": "code",
   "execution_count": null,
   "metadata": {},
   "outputs": [],
   "source": [
    "plt.figure(figsize=(20,7))\n",
    "plt.title(\"Observations per Kommune\")\n",
    "df = traffic_data.groupby('MunicipalityName').FID.count().sort_values(ascending = False)\n",
    "ax = sns.barplot(df.keys(), df.values, order=df.keys(), palette=\"GnBu_d\")\n",
    "plt.setp(ax.get_xticklabels(), rotation=90);"
   ]
  },
  {
   "cell_type": "markdown",
   "metadata": {},
   "source": [
    "#### AAR variable"
   ]
  },
  {
   "cell_type": "code",
   "execution_count": null,
   "metadata": {},
   "outputs": [],
   "source": [
    "plt.figure(figsize=(5,2))\n",
    "plt.title(\"Observations per Year\")\n",
    "df = traffic_data.Year.value_counts()\n",
    "ax = sns.barplot(df.keys(), df.values, order=df.keys().sort_values(), palette=\"GnBu_d\")\n",
    "plt.setp(ax.get_xticklabels(), rotation=90);"
   ]
  },
  {
   "cell_type": "markdown",
   "metadata": {},
   "source": [
    "#### Number of cars in 24h (AADT, HDT, JDT)"
   ]
  },
  {
   "cell_type": "code",
   "execution_count": null,
   "metadata": {},
   "outputs": [],
   "source": [
    "#Considering all days of the year\n",
    "plt.figure(figsize=(20,7))\n",
    "plt.title(\"Average number of cars per Kommune - considering all days of the year\")\n",
    "df = traffic_data.groupby('MunicipalityName').AverageDailyVehicles.mean().sort_values(ascending = False)\n",
    "ax = sns.barplot(df.keys(), df.values, order = df.keys())\n",
    "plt.setp(ax.get_xticklabels(), rotation=90);\n",
    "\n",
    "#Excluding weekends, summer and holidays\n",
    "plt.figure(figsize=(20,7))\n",
    "plt.title(\"Average number of cars per Kommune - excluding weekends, summer and holidays\")\n",
    "df = traffic_data.groupby('MunicipalityName').AverageWeekdayDailyVehicles.mean().sort_values(ascending = False)\n",
    "ax = sns.barplot(df.keys(), df.values, order = df.keys())\n",
    "plt.setp(ax.get_xticklabels(), rotation=90);\n",
    "\n",
    "#Considering only July\n",
    "plt.figure(figsize=(20,7))\n",
    "plt.title(\"Average number of cars per Kommune - in July\")\n",
    "df = traffic_data.groupby('MunicipalityName').DailyJulyTraffic.mean().sort_values(ascending = False)\n",
    "ax = sns.barplot(df.keys(), df.values, order = df.keys())\n",
    "plt.setp(ax.get_xticklabels(), rotation=90);"
   ]
  },
  {
   "cell_type": "markdown",
   "metadata": {},
   "source": [
    "#### Comparing the number of cars in July vs a working day\n",
    "Some kommunes (values <1, on the left) experience a drop in traffic in July (business areas?), some (values >1, on the right) experience an increase in traffic in July (holiday destinations?)."
   ]
  },
  {
   "cell_type": "code",
   "execution_count": null,
   "metadata": {},
   "outputs": [],
   "source": [
    "plt.figure(figsize=(20,7))\n",
    "plt.title(\"How much traffic is there in July compared to the Everyday traffic?\")\n",
    "df = (traffic_data.groupby('MunicipalityName').DailyJulyTraffic.mean() / traffic_data.groupby('MunicipalityName').AverageWeekdayDailyVehicles.mean()).sort_values()\n",
    "ax = sns.barplot(df.keys(), df.values)\n",
    "plt.setp(ax.get_xticklabels(), rotation=90);"
   ]
  },
  {
   "cell_type": "markdown",
   "metadata": {},
   "source": [
    "#### Traffic types \n",
    "\n",
    "I am not sure what BO-ARB means. \"Bo og arbejde\" = Live and work?\n",
    "\n",
    "How is that different than BY (city?)\n"
   ]
  },
  {
   "cell_type": "code",
   "execution_count": null,
   "metadata": {},
   "outputs": [],
   "source": [
    "plt.figure(figsize=(15,5))\n",
    "plt.title(\"Traffic types\")\n",
    "df = traffic_data.Traffictype.value_counts()\n",
    "ax = sns.barplot(df.keys(), df.values)\n",
    "plt.setp(ax.get_xticklabels(), rotation=90);"
   ]
  },
  {
   "cell_type": "markdown",
   "metadata": {},
   "source": [
    "#### Speed"
   ]
  },
  {
   "cell_type": "code",
   "execution_count": null,
   "metadata": {},
   "outputs": [],
   "source": [
    "plt.figure(figsize=(20,7))\n",
    "plt.title(\"Average speed per Kommune\")\n",
    "df = traffic_data.groupby('MunicipalityName').AverageSpeed.mean().sort_values(ascending = False)\n",
    "ax = sns.barplot(df.keys(), df.values, order = df.keys())\n",
    "plt.setp(ax.get_xticklabels(), rotation=90);"
   ]
  },
  {
   "cell_type": "markdown",
   "metadata": {},
   "source": [
    "#### Trucks"
   ]
  },
  {
   "cell_type": "code",
   "execution_count": null,
   "metadata": {},
   "outputs": [],
   "source": [
    "plt.figure(figsize=(20,7))\n",
    "plt.title(\"Average number of trucks (in 24h?)\")\n",
    "df = traffic_data.groupby('MunicipalityName').AverageDailyTrucks.mean().sort_values(ascending = False)\n",
    "ax = sns.barplot(df.keys(), df.values, order = df.keys(), palette=\"GnBu_d\")\n",
    "plt.setp(ax.get_xticklabels(), rotation=90);"
   ]
  },
  {
   "cell_type": "code",
   "execution_count": null,
   "metadata": {},
   "outputs": [],
   "source": [
    "plt.figure(figsize=(20,7))\n",
    "plt.title(\"Percentage of people driving too fast\")\n",
    "df = traffic_data.groupby('MunicipalityName').PctOfTrucks.mean().sort_values(ascending = False)\n",
    "ax = sns.barplot(df.keys(), df.values, order = df.keys(), palette=\"GnBu_d\")\n",
    "plt.setp(ax.get_xticklabels(), rotation=90);"
   ]
  },
  {
   "cell_type": "code",
   "execution_count": null,
   "metadata": {},
   "outputs": [],
   "source": [
    "plt.figure(figsize=(20,7))\n",
    "plt.title(\"Percentage of people driving too fast (+10 km/h)\")\n",
    "df = traffic_data.groupby('MunicipalityName').PctOverSpeedLimit10.mean().sort_values(ascending = False)\n",
    "ax = sns.barplot(df.keys(), df.values, order = df.keys())\n",
    "plt.setp(ax.get_xticklabels(), rotation=90);"
   ]
  },
  {
   "cell_type": "code",
   "execution_count": null,
   "metadata": {},
   "outputs": [],
   "source": [
    "#Work in progress\n",
    "for i in traffic_data.Municipality.value_counts().head(10).keys():\n",
    "    sns.kdeplot(traffic_data[traffic_data.Municipality == i][\"AverageDailyVehicles\"], label= i )"
   ]
  },
  {
   "cell_type": "code",
   "execution_count": null,
   "metadata": {},
   "outputs": [],
   "source": [
    "plt.figure(figsize=(15,5))\n",
    "plt.title(\"Distance from the start of the road\")\n",
    "sns.distplot(traffic_data.Kilometer, kde = False)"
   ]
  },
  {
   "cell_type": "markdown",
   "metadata": {},
   "source": [
    "### Data manipulation"
   ]
  },
  {
   "cell_type": "markdown",
   "metadata": {},
   "source": [
    "#### Selection focus municipalities"
   ]
  },
  {
   "cell_type": "code",
   "execution_count": null,
   "metadata": {},
   "outputs": [],
   "source": [
    "plt.figure(figsize=(20,7))\n",
    "plt.title(\"Sum of measurement days\")\n",
    "df = traffic_data.groupby('MunicipalityName').CountedDays.sum().sort_values(ascending = False)\n",
    "ax = sns.barplot(df.keys(), df.values, order = df.keys())\n",
    "plt.setp(ax.get_xticklabels(), rotation=90);"
   ]
  },
  {
   "cell_type": "code",
   "execution_count": null,
   "metadata": {},
   "outputs": [],
   "source": [
    "base = 3\n",
    "traffic_data[\"CountedDaysLog\"]= np.log(traffic_data.CountedDays+1) / np.log(base)"
   ]
  },
  {
   "cell_type": "code",
   "execution_count": null,
   "metadata": {
    "scrolled": true
   },
   "outputs": [],
   "source": [
    "plt.figure(figsize=(20,7))\n",
    "plt.title(\"Sum of measurement days\")\n",
    "df = traffic_data.groupby('MunicipalityName').CountedDaysLog.sum().sort_values(ascending = False)\n",
    "ax = sns.barplot(df.keys(), df.values, order = df.keys())\n",
    "plt.setp(ax.get_xticklabels(), rotation=90);"
   ]
  },
  {
   "cell_type": "code",
   "execution_count": null,
   "metadata": {},
   "outputs": [],
   "source": [
    "focusmunicipalitiessize = 13\n",
    "mostcountedlog = traffic_data.groupby('MunicipalityName').CountedDaysLog.sum().sort_values(ascending = False)\n",
    "mostcounted = traffic_data.groupby('MunicipalityName').CountedDays.sum().sort_values(ascending = False)\n",
    "newmun = (set(mostcountedlog[:focusmunicipalitiessize].index) - set(mostcounted[:focusmunicipalitiessize].index))\n",
    "lostmun = (set(mostcounted[:focusmunicipalitiessize].index) - set(mostcountedlog[:focusmunicipalitiessize].index))"
   ]
  },
  {
   "cell_type": "code",
   "execution_count": null,
   "metadata": {},
   "outputs": [],
   "source": [
    "lostmun"
   ]
  },
  {
   "cell_type": "code",
   "execution_count": null,
   "metadata": {},
   "outputs": [],
   "source": [
    "newmun"
   ]
  },
  {
   "cell_type": "code",
   "execution_count": null,
   "metadata": {},
   "outputs": [],
   "source": [
    "mostcountedlog"
   ]
  },
  {
   "cell_type": "code",
   "execution_count": null,
   "metadata": {},
   "outputs": [],
   "source": []
  },
  {
   "cell_type": "code",
   "execution_count": null,
   "metadata": {},
   "outputs": [],
   "source": [
    "focusmunicipalities = mostcountedlog[:focusmunicipalitiessize].index\n",
    "# Add Copenhagen because it is the capital\n",
    "focusmunicipalities = list(focusmunicipalities)\n",
    "focusmunicipalities.append(\"København\")"
   ]
  },
  {
   "cell_type": "code",
   "execution_count": null,
   "metadata": {},
   "outputs": [],
   "source": [
    "focusmunicipalities"
   ]
  },
  {
   "cell_type": "markdown",
   "metadata": {},
   "source": [
    "### New variables"
   ]
  },
  {
   "cell_type": "code",
   "execution_count": null,
   "metadata": {},
   "outputs": [],
   "source": [
    "traffic_data = traffic_data.dropna(subset=['SpeedLimit', 'AverageSpeed'])\n",
    "traffic_data = traffic_data.astype({'SpeedLimit': 'float64'})"
   ]
  },
  {
   "cell_type": "code",
   "execution_count": null,
   "metadata": {},
   "outputs": [],
   "source": [
    "traffic_data[\"AvarageSpeedToSpeedLimit\"] = traffic_data.AverageSpeed - traffic_data.SpeedLimit"
   ]
  },
  {
   "cell_type": "code",
   "execution_count": null,
   "metadata": {},
   "outputs": [],
   "source": [
    "traffic_data[\"JulyWeekdaysRatio\"] = traffic_data.DailyJulyTraffic / traffic_data.AverageWeekdayDailyVehicles"
   ]
  },
  {
   "cell_type": "markdown",
   "metadata": {},
   "source": [
    "### Plot variables against focus municipalities"
   ]
  },
  {
   "cell_type": "code",
   "execution_count": null,
   "metadata": {},
   "outputs": [],
   "source": [
    "data_to_focus = traffic_data[traffic_data.MunicipalityName.isin(focusmunicipalities)]\n",
    "data_to_focus = data_to_focus[data_to_focus.Year > 2012]"
   ]
  },
  {
   "cell_type": "code",
   "execution_count": null,
   "metadata": {},
   "outputs": [],
   "source": [
    "focus_counth =data_to_focus.groupby(['MunicipalityName', 'Year'])['AvarageSpeedToSpeedLimit'].mean()\n",
    "focus_counth.unstack().plot.bar(subplots=True,layout=(4,2), figsize=(15,20), legend=False, title='The avarage distance from speed limit')"
   ]
  },
  {
   "cell_type": "code",
   "execution_count": null,
   "metadata": {},
   "outputs": [],
   "source": [
    "focus_counth =data_to_focus.groupby(['MunicipalityName', 'Year'])['JulyWeekdaysRatio'].mean()\n",
    "focus_counth.unstack().plot.bar(subplots=True,layout=(4,2), figsize=(15,20), legend=False, title='The ratio between traffic in July and everyday')"
   ]
  },
  {
   "cell_type": "markdown",
   "metadata": {},
   "source": [
    "Tonder and Koling seem to have an increase!"
   ]
  },
  {
   "cell_type": "code",
   "execution_count": null,
   "metadata": {},
   "outputs": [],
   "source": [
    "focus_counth =data_to_focus.groupby(['MunicipalityName', 'Year'])['PctOverSpeedLimit10'].mean()\n",
    "focus_counth.unstack().plot.bar(subplots=True,layout=(4,2), figsize=(15,20), legend=False, title='Percentage of vehicles traveling above the speed limit + 10km / h')"
   ]
  },
  {
   "cell_type": "code",
   "execution_count": null,
   "metadata": {},
   "outputs": [],
   "source": []
  }
 ],
 "metadata": {
  "kernelspec": {
   "display_name": "Python 3",
   "language": "python",
   "name": "python3"
  },
  "language_info": {
   "codemirror_mode": {
    "name": "ipython",
    "version": 3
   },
   "file_extension": ".py",
   "mimetype": "text/x-python",
   "name": "python",
   "nbconvert_exporter": "python",
   "pygments_lexer": "ipython3",
   "version": "3.7.1"
  }
 },
 "nbformat": 4,
 "nbformat_minor": 2
}
